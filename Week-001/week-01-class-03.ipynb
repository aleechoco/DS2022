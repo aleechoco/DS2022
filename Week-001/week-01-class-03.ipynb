{
  "nbformat": 4,
  "nbformat_minor": 0,
  "metadata": {
    "kernelspec": {
      "display_name": "Python 3",
      "language": "python",
      "name": "python3"
    },
    "language_info": {
      "codemirror_mode": {
        "name": "ipython",
        "version": 3
      },
      "file_extension": ".py",
      "mimetype": "text/x-python",
      "name": "python",
      "nbconvert_exporter": "python",
      "pygments_lexer": "ipython3",
      "version": "3.9.0"
    },
    "colab": {
      "name": "week-01-class-03.ipynb",
      "provenance": [],
      "include_colab_link": true
    }
  },
  "cells": [
    {
      "cell_type": "markdown",
      "metadata": {
        "id": "view-in-github",
        "colab_type": "text"
      },
      "source": [
        "<a href=\"https://colab.research.google.com/github/aleechoco/DS2022/blob/main/Week-001/week-01-class-03.ipynb\" target=\"_parent\"><img src=\"https://colab.research.google.com/assets/colab-badge.svg\" alt=\"Open In Colab\"/></a>"
      ]
    },
    {
      "cell_type": "markdown",
      "metadata": {
        "id": "xjXOqwcCfKve"
      },
      "source": [
        "<div style=\"background: #000;\n",
        "            color: #FFF;\n",
        "            margin: 0px;\n",
        "                padding: 10px 0px 20px 0px;\n",
        "            text-align: center; \n",
        "                \">\n",
        "    <h1>Python Data Science Course - Week 1 - Day 3</h1>\n",
        "</div>\n",
        "\n",
        "## Todays Agenda\n",
        "\n",
        "* Ints vs. Floats\n",
        "* Math in Python\n",
        "* Discuss homework assignments\n"
      ]
    },
    {
      "cell_type": "code",
      "metadata": {
        "id": "o7ktrhY_fKvj"
      },
      "source": [
        ""
      ],
      "execution_count": null,
      "outputs": []
    },
    {
      "cell_type": "code",
      "metadata": {
        "id": "am74dQGUfKvk"
      },
      "source": [
        ""
      ],
      "execution_count": null,
      "outputs": []
    },
    {
      "cell_type": "markdown",
      "metadata": {
        "id": "yiaapxb-fKvl"
      },
      "source": [
        "### bools"
      ]
    },
    {
      "cell_type": "code",
      "metadata": {
        "id": "LFICOrL1fKvm"
      },
      "source": [
        "print(\"hello\") and print(\"hello\")"
      ],
      "execution_count": null,
      "outputs": []
    },
    {
      "cell_type": "code",
      "metadata": {
        "id": "Mc86ufKzfKvn"
      },
      "source": [
        "print(\"hello\") and True"
      ],
      "execution_count": null,
      "outputs": []
    },
    {
      "cell_type": "code",
      "metadata": {
        "id": "2yuZJ8mOfKvp"
      },
      "source": [
        "print(\"hello\") and False"
      ],
      "execution_count": null,
      "outputs": []
    },
    {
      "cell_type": "code",
      "metadata": {
        "id": "xyUWkp6wfKvq"
      },
      "source": [
        "True and print(\"hello\")"
      ],
      "execution_count": null,
      "outputs": []
    },
    {
      "cell_type": "code",
      "metadata": {
        "id": "Ka5ktNXWfKvr"
      },
      "source": [
        "False and print(\"hello\")"
      ],
      "execution_count": null,
      "outputs": []
    },
    {
      "cell_type": "code",
      "metadata": {
        "id": "V_SPTNukfKvs"
      },
      "source": [
        "print(\"hello\") or print(\"goodbye\")"
      ],
      "execution_count": null,
      "outputs": []
    },
    {
      "cell_type": "code",
      "metadata": {
        "id": "azbHup0XfKvs"
      },
      "source": [
        "print(\"hello\") or True"
      ],
      "execution_count": null,
      "outputs": []
    },
    {
      "cell_type": "code",
      "metadata": {
        "id": "rDRFvYSDfKvt"
      },
      "source": [
        "True == 1"
      ],
      "execution_count": null,
      "outputs": []
    },
    {
      "cell_type": "code",
      "metadata": {
        "id": "FrWDWloufKvu"
      },
      "source": [
        "False == 0"
      ],
      "execution_count": null,
      "outputs": []
    },
    {
      "cell_type": "code",
      "metadata": {
        "id": "gL7Twp79fKvu"
      },
      "source": [
        "True == 939"
      ],
      "execution_count": null,
      "outputs": []
    },
    {
      "cell_type": "code",
      "metadata": {
        "id": "FI7-nUNWfKvu"
      },
      "source": [
        "False == -323"
      ],
      "execution_count": null,
      "outputs": []
    },
    {
      "cell_type": "code",
      "metadata": {
        "id": "OkfTUwVFfKvv"
      },
      "source": [
        "bool(0), bool(0.00), bool(0j)"
      ],
      "execution_count": null,
      "outputs": []
    },
    {
      "cell_type": "code",
      "metadata": {
        "id": "_RhU741IfKvv"
      },
      "source": [
        "bool(None)"
      ],
      "execution_count": null,
      "outputs": []
    },
    {
      "cell_type": "code",
      "metadata": {
        "id": "W6UAKxDTfKvw"
      },
      "source": [
        "bool(()), bool([]), bool({})"
      ],
      "execution_count": null,
      "outputs": []
    },
    {
      "cell_type": "code",
      "metadata": {
        "id": "VgpUnH0PfKvw"
      },
      "source": [
        "class Example:\n",
        "    def __init__(self):\n",
        "        pass\n",
        "    def __bool__(self):\n",
        "        return False\n",
        "    def __len__(self):\n",
        "        return 0\n",
        "\n",
        "e = Example()\n",
        "    \n",
        "bool(e)"
      ],
      "execution_count": null,
      "outputs": []
    },
    {
      "cell_type": "markdown",
      "metadata": {
        "id": "sbYZv6GofKvy"
      },
      "source": [
        "# Ints"
      ]
    },
    {
      "cell_type": "code",
      "metadata": {
        "id": "dAm9UCWqfKvz"
      },
      "source": [
        "variable = 45"
      ],
      "execution_count": null,
      "outputs": []
    },
    {
      "cell_type": "code",
      "metadata": {
        "id": "IcgXQcJ4fKvz"
      },
      "source": [
        "type(variable)"
      ],
      "execution_count": null,
      "outputs": []
    },
    {
      "cell_type": "markdown",
      "metadata": {
        "id": "tclewA2pfKv0"
      },
      "source": [
        "# common math operations"
      ]
    },
    {
      "cell_type": "code",
      "metadata": {
        "id": "L0GCAGN0fKv0"
      },
      "source": [
        "variable = 10 + 10\n",
        "\n",
        "print(variable)"
      ],
      "execution_count": null,
      "outputs": []
    },
    {
      "cell_type": "code",
      "metadata": {
        "id": "OU-2mKc6fKv0"
      },
      "source": [
        "variable = 10 - 10\n",
        "\n",
        "print(variable)"
      ],
      "execution_count": null,
      "outputs": []
    },
    {
      "cell_type": "code",
      "metadata": {
        "id": "_8Wa53lEfKv1"
      },
      "source": [
        "variable = -10 + 10\n",
        "print(variable)"
      ],
      "execution_count": null,
      "outputs": []
    },
    {
      "cell_type": "code",
      "metadata": {
        "id": "GmLwL1HrfKv1"
      },
      "source": [
        "# some useful tricks\n",
        "\n",
        "# adding/subtracting an amount to a variable:\n",
        "variable += 5\n",
        "variable -= 5"
      ],
      "execution_count": null,
      "outputs": []
    },
    {
      "cell_type": "code",
      "metadata": {
        "id": "NBnPEiJofKv1"
      },
      "source": [
        "# multiplication\n",
        "\n",
        "variable = 5 * 5\n",
        "\n",
        "# using exponents\n",
        "\n",
        "variable2 = 5 ** 5\n",
        "\n",
        "print(variable, variable2)"
      ],
      "execution_count": null,
      "outputs": []
    },
    {
      "cell_type": "markdown",
      "metadata": {
        "id": "XZ3kBIZSfKv1"
      },
      "source": [
        "# Examples using python as a calculator"
      ]
    },
    {
      "cell_type": "markdown",
      "metadata": {
        "id": "2L8l055vfKv2"
      },
      "source": [
        "Say you had a company that ran projects with a budgeted amount of $1000 per project. Of that amount, you spend money for supplies and labor. Often, you don't use the full budget. Your boss asks you weekly to generate a list of the leftover funds. \n",
        "\n",
        "Let's use python to create a script that will allow us to enter the values and generate that list easily. "
      ]
    },
    {
      "cell_type": "code",
      "metadata": {
        "id": "kxMDWvs-fKv2"
      },
      "source": [
        "balance: int = 1000"
      ],
      "execution_count": null,
      "outputs": []
    },
    {
      "cell_type": "code",
      "metadata": {
        "id": "yqOpvHpFfKv2"
      },
      "source": [
        "sum(s)"
      ],
      "execution_count": null,
      "outputs": []
    },
    {
      "cell_type": "code",
      "metadata": {
        "id": "j5pBlfspfKv2"
      },
      "source": [
        ""
      ],
      "execution_count": null,
      "outputs": []
    },
    {
      "cell_type": "markdown",
      "metadata": {
        "id": "yIGMruAJfKv2"
      },
      "source": [
        "# More complicated examples"
      ]
    },
    {
      "cell_type": "code",
      "metadata": {
        "id": "SbZiJ_QKfKv3"
      },
      "source": [
        "# Floor division\n",
        "\n",
        "14 // 3 # discards fractional part"
      ],
      "execution_count": null,
      "outputs": []
    },
    {
      "cell_type": "code",
      "metadata": {
        "id": "xrm0hjfZfKv3"
      },
      "source": [
        "# Remainder operation\n",
        "\n",
        "14 % 3 # returns remainder"
      ],
      "execution_count": null,
      "outputs": []
    },
    {
      "cell_type": "code",
      "metadata": {
        "id": "MUkWEPxEfKv3"
      },
      "source": [
        "# putting that together:\n",
        "\n",
        "w = 17 // 3\n",
        "w"
      ],
      "execution_count": null,
      "outputs": []
    },
    {
      "cell_type": "code",
      "metadata": {
        "id": "jV2QLSTGfKv3"
      },
      "source": [
        "x = 17 % 3\n",
        "x"
      ],
      "execution_count": null,
      "outputs": []
    },
    {
      "cell_type": "code",
      "metadata": {
        "id": "zu4RkTA3fKv3"
      },
      "source": [
        "y = w, x\n",
        "y"
      ],
      "execution_count": null,
      "outputs": []
    },
    {
      "cell_type": "code",
      "metadata": {
        "id": "SrfIsN-FfKv4"
      },
      "source": [
        "w * 3 + x"
      ],
      "execution_count": null,
      "outputs": []
    },
    {
      "cell_type": "code",
      "metadata": {
        "id": "74r4gWqGfKv4"
      },
      "source": [
        "# multiplication gets tricky"
      ],
      "execution_count": null,
      "outputs": []
    },
    {
      "cell_type": "code",
      "metadata": {
        "id": "FTxLp5cBfKv4"
      },
      "source": [
        "print(type(5))\n",
        "print(type(3))\n",
        "print(type(5/3))"
      ],
      "execution_count": null,
      "outputs": []
    },
    {
      "cell_type": "code",
      "metadata": {
        "id": "ii5BigmifKv4"
      },
      "source": [
        "type(4.)"
      ],
      "execution_count": null,
      "outputs": []
    },
    {
      "cell_type": "code",
      "metadata": {
        "id": "fWuXPzVnfKv4"
      },
      "source": [
        "22/7."
      ],
      "execution_count": null,
      "outputs": []
    },
    {
      "cell_type": "code",
      "metadata": {
        "id": "K2PDGctafKv4"
      },
      "source": [
        "import math\n",
        "math.pi.as_integer_ratio()"
      ],
      "execution_count": null,
      "outputs": []
    },
    {
      "cell_type": "code",
      "metadata": {
        "id": "APO8TRQyfKv4"
      },
      "source": [
        "884279719003555/281474976710656"
      ],
      "execution_count": null,
      "outputs": []
    },
    {
      "cell_type": "markdown",
      "metadata": {
        "id": "b6ZFEAGpfKv5"
      },
      "source": [
        "# Floats\n",
        "***\n",
        "\n",
        "The float type in CPython uses a C double for storage. A float object’s value is stored in binary floating-point with a fixed precision (typically 53 bits) and Python uses C operations, which in turn rely on the hardware implementation in the processor, to perform floating-point operations. This means that as far as floating-point operations are concerned, Python behaves like many popular languages including C and Java.\n",
        "\n",
        "Floats:\n",
        "1. Sign bit\n",
        "2. Fractional part digits\n",
        "3. Exponent part digits\n",
        "\n",
        "\n",
        "\n",
        "1. bit for negative/postive\n",
        "2. bits to expand as follows:  \n",
        "$\n",
        "01101101 - 0*2^{-1} + 1*2^{-2} + 1*2^{-3} + 0*2^{-4} + 1*2^{-5} + 1*2^{-6} + 0*2^{-7} + 1*2^{-8} = 0.42578125\n",
        "$\n",
        "3. bits for exponent:\n",
        "$\n",
        "11000011 - 1*2^7 + 1*2^6 + 0*2^5 + 0*2^4 + 0*2^3 + 0*2^2 + 1*2^1 + 1*2^0 = 195\n",
        "$\n",
        "\n",
        "\n",
        "sign * fractional part ** exponent"
      ]
    },
    {
      "cell_type": "code",
      "metadata": {
        "id": "lHXf2zeKfKv5"
      },
      "source": [
        "0*2**-1 + 1*2**-2 + 1*2**-3 + 0*2**-4 + 1*2**-5 + 1*2**-6 + 0*2**-7 + 1*2**-8"
      ],
      "execution_count": null,
      "outputs": []
    },
    {
      "cell_type": "code",
      "metadata": {
        "id": "4L7oNONYfKv5"
      },
      "source": [
        "sum([int(j) * 2 **-(i+1) for i, j in enumerate('01101101')])"
      ],
      "execution_count": null,
      "outputs": []
    },
    {
      "cell_type": "code",
      "metadata": {
        "id": "TLp4OvaffKv5"
      },
      "source": [
        "1*2**7 + 1*2**6 + 0*2**5 + 0*2**4 + 0*2**3 + 0*2**2 + 1*2**1 + 1*2**0"
      ],
      "execution_count": null,
      "outputs": []
    },
    {
      "cell_type": "code",
      "metadata": {
        "id": "rAIyUmL7fKv5"
      },
      "source": [
        "sum([int(j) * 2 **(i) for i, j in enumerate('11000011')])"
      ],
      "execution_count": null,
      "outputs": []
    },
    {
      "cell_type": "markdown",
      "metadata": {
        "id": "qJACFOAvfKv6"
      },
      "source": [
        "1 2 3 4 5 6 7 8 9 10\n",
        "\n",
        "1.00 1.01 1.02 .. 1.99 2.00 99\n",
        "\n",
        "1.00000000000000000000000000000...\n",
        "2.000000000000000000000000000000000000000000000...\n",
        "1.0 ... 2.0"
      ]
    },
    {
      "cell_type": "code",
      "metadata": {
        "id": "qFYjN6G5fKv6"
      },
      "source": [
        "1/3."
      ],
      "execution_count": null,
      "outputs": []
    },
    {
      "cell_type": "code",
      "metadata": {
        "id": "sguUS6xafKv6"
      },
      "source": [
        "import math\n",
        "\n",
        "type(math.pi)"
      ],
      "execution_count": null,
      "outputs": []
    },
    {
      "cell_type": "code",
      "metadata": {
        "id": "P9k-7mxJfKv6"
      },
      "source": [
        "format(math.pi, '.12g')"
      ],
      "execution_count": null,
      "outputs": []
    },
    {
      "cell_type": "code",
      "metadata": {
        "id": "LnmI1-FCfKv6"
      },
      "source": [
        "format(math.pi, '.2f')"
      ],
      "execution_count": null,
      "outputs": []
    },
    {
      "cell_type": "code",
      "metadata": {
        "id": "qJ40Z6VUfKv6"
      },
      "source": [
        "format(0.1, '.17f')"
      ],
      "execution_count": null,
      "outputs": []
    },
    {
      "cell_type": "code",
      "metadata": {
        "id": "hHbHSB4_fKv7"
      },
      "source": [
        "0.1 + 0.1 + 0.1 == 0.3"
      ],
      "execution_count": null,
      "outputs": []
    },
    {
      "cell_type": "code",
      "metadata": {
        "id": "U0AlhkO8fKv7"
      },
      "source": [
        "round(0.1 + 0.1 + 0.1, 10) == round(0.3, 10)"
      ],
      "execution_count": null,
      "outputs": []
    },
    {
      "cell_type": "code",
      "metadata": {
        "id": "iLo6lJqJfKv7"
      },
      "source": [
        "(0.1).as_integer_ratio()"
      ],
      "execution_count": null,
      "outputs": []
    },
    {
      "cell_type": "code",
      "metadata": {
        "id": "gfFheNLifKv7"
      },
      "source": [
        "from decimal import getcontext, Decimal\n",
        "getcontext().prec = 6\n",
        "Decimal(1)/Decimal(7)"
      ],
      "execution_count": null,
      "outputs": []
    },
    {
      "cell_type": "code",
      "metadata": {
        "id": "ffnv9OXBfKv7"
      },
      "source": [
        "getcontext().prec = 28\n",
        "Decimal(1)/Decimal(7)"
      ],
      "execution_count": null,
      "outputs": []
    },
    {
      "cell_type": "code",
      "metadata": {
        "id": "2_r576r_fKv7"
      },
      "source": [
        "getcontext().prec = 2\n",
        "Decimal(1)/Decimal(7)"
      ],
      "execution_count": null,
      "outputs": []
    },
    {
      "cell_type": "code",
      "metadata": {
        "id": "ZhuMwiqtfKv7"
      },
      "source": [
        "from fractions import Fraction\n",
        "Fraction.from_float(0.25)"
      ],
      "execution_count": null,
      "outputs": []
    },
    {
      "cell_type": "code",
      "metadata": {
        "id": "EMYEPiLJfKv8"
      },
      "source": [
        "Fraction.from_float(0.33333)"
      ],
      "execution_count": null,
      "outputs": []
    },
    {
      "cell_type": "markdown",
      "metadata": {
        "id": "uMT7dh58fKv8"
      },
      "source": [
        "# More Python\n",
        "\n",
        "## Useful Built In Functions\n",
        "\n",
        "|               |             |              |              |                |\n",
        "|---------------|-------------|--------------|--------------|----------------|\n",
        "| abs()         | delattr()   | hash()       | memoryview() | set()          |\n",
        "| all()         | dict()      | help()       | min()        | setattr()      |\n",
        "| any()         | dir()       | hex()        | next()       | slice()        |\n",
        "| ascii()       | divmod()    | id()         | object()     | sorted()       |\n",
        "| bin()         | enumerate() | input()      | oct()        | staticmethod() |\n",
        "| bool()        | eval()      | int()        | open()       | str()          |\n",
        "| breakpoint()  | exec()      | isinstance() | ord()        | sum()          |\n",
        "| bytearray()   | filter()    | issubclass() | pow()        | super()        |\n",
        "| bytes()       | float()     | iter()       | print()      | tuple()        |\n",
        "| callable()    | format()    | len()        | property()   | type()         |\n",
        "| chr()         | frozenset() | list()       | range()      | vars()         |\n",
        "| classmethod() | getattr()   | locals()     | repr()       | zip()          |\n",
        "| compile()     | globals()   | map()        | reversed()   | \\__import__()   |\n",
        "| complex()     | hasattr()   | max()        | round()      |                |"
      ]
    },
    {
      "cell_type": "markdown",
      "metadata": {
        "id": "RZqGyOh9fKv8"
      },
      "source": [
        "### `abs(x)` -> returns absolute value of x   \n"
      ]
    },
    {
      "cell_type": "code",
      "metadata": {
        "id": "AzUkDAzufKv8"
      },
      "source": [
        "abs(10)"
      ],
      "execution_count": null,
      "outputs": []
    },
    {
      "cell_type": "code",
      "metadata": {
        "id": "FCZNeklXfKv8"
      },
      "source": [
        "abs(-10)"
      ],
      "execution_count": null,
      "outputs": []
    },
    {
      "cell_type": "code",
      "metadata": {
        "id": "T-bo9N8LfKv8"
      },
      "source": [
        "abs(0)"
      ],
      "execution_count": null,
      "outputs": []
    },
    {
      "cell_type": "markdown",
      "metadata": {
        "id": "sQarXOLdfKv8"
      },
      "source": [
        "### `bool(x)` -> casts x as bool "
      ]
    },
    {
      "cell_type": "code",
      "metadata": {
        "id": "3SN6GbFxfKv9"
      },
      "source": [
        "bool(0), bool(\"\"), bool(None)"
      ],
      "execution_count": null,
      "outputs": []
    },
    {
      "cell_type": "code",
      "metadata": {
        "id": "gpwrupb7fKv9"
      },
      "source": [
        "bool(1), bool(24)"
      ],
      "execution_count": null,
      "outputs": []
    },
    {
      "cell_type": "code",
      "metadata": {
        "id": "oZpOCErkfKv9"
      },
      "source": [
        "bool(True), bool(4), bool(\"s\")"
      ],
      "execution_count": null,
      "outputs": []
    },
    {
      "cell_type": "markdown",
      "metadata": {
        "id": "pweI6bM8fKv9"
      },
      "source": [
        "### `callable(x)` -> returns True if x is a function  \n"
      ]
    },
    {
      "cell_type": "code",
      "metadata": {
        "id": "ZcZQuJi-fKv9"
      },
      "source": [
        "callable(print)"
      ],
      "execution_count": null,
      "outputs": []
    },
    {
      "cell_type": "code",
      "metadata": {
        "id": "SHVef-kyfKv9"
      },
      "source": [
        "callable(bool)"
      ],
      "execution_count": null,
      "outputs": []
    },
    {
      "cell_type": "code",
      "metadata": {
        "id": "b0W_GlBAfKv9"
      },
      "source": [
        "s = \"string\"\n",
        "callable(s)"
      ],
      "execution_count": null,
      "outputs": []
    },
    {
      "cell_type": "markdown",
      "metadata": {
        "id": "t6nppZjXfKv9"
      },
      "source": [
        "### `dict()` -> returns dict  "
      ]
    },
    {
      "cell_type": "code",
      "metadata": {
        "id": "Cc7hkcyAfKv9"
      },
      "source": [
        "d = dict()\n",
        "type(d)"
      ],
      "execution_count": null,
      "outputs": []
    },
    {
      "cell_type": "markdown",
      "metadata": {
        "id": "MTdk4WiSfKv-"
      },
      "source": [
        "### `dir(x)` -> returns attributes and methods of object x  "
      ]
    },
    {
      "cell_type": "code",
      "metadata": {
        "id": "zT8eXOB6fKv-"
      },
      "source": [
        "dir()"
      ],
      "execution_count": null,
      "outputs": []
    },
    {
      "cell_type": "code",
      "metadata": {
        "id": "RGN0smAMfKv-"
      },
      "source": [
        "dir(help)"
      ],
      "execution_count": null,
      "outputs": []
    },
    {
      "cell_type": "markdown",
      "metadata": {
        "id": "UYoLtN_hfKv-"
      },
      "source": [
        " ### `float(x)` -> casts x to a float  "
      ]
    },
    {
      "cell_type": "code",
      "metadata": {
        "id": "D39sH_2IfKv-"
      },
      "source": [
        "float(1)"
      ],
      "execution_count": null,
      "outputs": []
    },
    {
      "cell_type": "code",
      "metadata": {
        "id": "jcqzUYqLfKv-"
      },
      "source": [
        "float(\"1\")"
      ],
      "execution_count": null,
      "outputs": []
    },
    {
      "cell_type": "code",
      "metadata": {
        "id": "wY1xUPcWfKv-"
      },
      "source": [
        "float(\"s\")"
      ],
      "execution_count": null,
      "outputs": []
    },
    {
      "cell_type": "markdown",
      "metadata": {
        "id": "vqct2OuNfKv-"
      },
      "source": [
        "\n",
        "### `hex(x)` -> casts int x as a hex   \n"
      ]
    },
    {
      "cell_type": "code",
      "metadata": {
        "id": "oKJ3c-dWfKv-"
      },
      "source": [
        "hex(0)"
      ],
      "execution_count": null,
      "outputs": []
    },
    {
      "cell_type": "code",
      "metadata": {
        "id": "jWKEp5pGfKv-"
      },
      "source": [
        "hex(0.0)"
      ],
      "execution_count": null,
      "outputs": []
    },
    {
      "cell_type": "code",
      "metadata": {
        "id": "S68XP1HPfKv_"
      },
      "source": [
        "hex(\"0\")"
      ],
      "execution_count": null,
      "outputs": []
    },
    {
      "cell_type": "markdown",
      "metadata": {
        "id": "LiHlBfDzfKv_"
      },
      "source": [
        "### `id(x)` -> returns id for object x  \n"
      ]
    },
    {
      "cell_type": "code",
      "metadata": {
        "id": "Ryjn7Dt_fKv_"
      },
      "source": [
        "s = \"string\"\n",
        "d = \"string\"\n",
        "e = \"strin\"\n",
        "f = e[:]\n",
        "g = s[:-1]\n",
        "h = d[:-1]\n",
        "print(f)\n",
        "id(s), id(d), id(e), id(f), id(g), id(h)"
      ],
      "execution_count": null,
      "outputs": []
    },
    {
      "cell_type": "code",
      "metadata": {
        "id": "8LwLj3ZPfKv_"
      },
      "source": [
        "s is d"
      ],
      "execution_count": null,
      "outputs": []
    },
    {
      "cell_type": "code",
      "metadata": {
        "id": "bH09d8S_fKv_"
      },
      "source": [
        "s == d"
      ],
      "execution_count": null,
      "outputs": []
    },
    {
      "cell_type": "code",
      "metadata": {
        "id": "-Nl19e7DfKv_"
      },
      "source": [
        "e == g"
      ],
      "execution_count": null,
      "outputs": []
    },
    {
      "cell_type": "code",
      "metadata": {
        "id": "bqphQbjYfKv_"
      },
      "source": [
        "e is g"
      ],
      "execution_count": null,
      "outputs": []
    },
    {
      "cell_type": "code",
      "metadata": {
        "id": "UrHwXju4fKv_"
      },
      "source": [
        "s = [4, 5]\n",
        "d = [4, 5]\n",
        "id(s), id(d)"
      ],
      "execution_count": null,
      "outputs": []
    },
    {
      "cell_type": "code",
      "metadata": {
        "id": "zqd1aHOnfKv_"
      },
      "source": [
        "s is d"
      ],
      "execution_count": null,
      "outputs": []
    },
    {
      "cell_type": "code",
      "metadata": {
        "id": "e2h8xA_VfKv_"
      },
      "source": [
        "s == d"
      ],
      "execution_count": null,
      "outputs": []
    },
    {
      "cell_type": "markdown",
      "metadata": {
        "id": "AJXeWOirfKwA"
      },
      "source": [
        "### `input()`  -> returns user input"
      ]
    },
    {
      "cell_type": "code",
      "metadata": {
        "id": "JII-7CtrfKwA"
      },
      "source": [
        "input()"
      ],
      "execution_count": null,
      "outputs": []
    },
    {
      "cell_type": "code",
      "metadata": {
        "id": "37QguCWafKwA"
      },
      "source": [
        "s = input()"
      ],
      "execution_count": null,
      "outputs": []
    },
    {
      "cell_type": "code",
      "metadata": {
        "id": "g7jPO_NNfKwA"
      },
      "source": [
        "s"
      ],
      "execution_count": null,
      "outputs": []
    },
    {
      "cell_type": "markdown",
      "metadata": {
        "id": "1ARnyEK1fKwA"
      },
      "source": [
        "### `int(x)` -> casts x as int  "
      ]
    },
    {
      "cell_type": "code",
      "metadata": {
        "id": "33BbibytfKwA"
      },
      "source": [
        "int(0)"
      ],
      "execution_count": null,
      "outputs": []
    },
    {
      "cell_type": "code",
      "metadata": {
        "id": "5hUDOwaUfKwA"
      },
      "source": [
        "int(\"1\")"
      ],
      "execution_count": null,
      "outputs": []
    },
    {
      "cell_type": "code",
      "metadata": {
        "id": "expjpKcJfKwA"
      },
      "source": [
        "int(True)"
      ],
      "execution_count": null,
      "outputs": []
    },
    {
      "cell_type": "markdown",
      "metadata": {
        "id": "RqaNBq4RfKwB"
      },
      "source": [
        "### `len(x)` -> returns count of x  "
      ]
    },
    {
      "cell_type": "code",
      "metadata": {
        "id": "XQUH383ufKwB"
      },
      "source": [
        "len(\"string\")"
      ],
      "execution_count": null,
      "outputs": []
    },
    {
      "cell_type": "code",
      "metadata": {
        "id": "3O3RGPCqfKwB"
      },
      "source": [
        "len([1,2,3,4])"
      ],
      "execution_count": null,
      "outputs": []
    },
    {
      "cell_type": "code",
      "metadata": {
        "id": "-yGHw-6wfKwB"
      },
      "source": [
        "len((1,2,3,4))"
      ],
      "execution_count": null,
      "outputs": []
    },
    {
      "cell_type": "code",
      "metadata": {
        "id": "kDha1HHwfKwC"
      },
      "source": [
        "len({'a':1, 'b':2})"
      ],
      "execution_count": null,
      "outputs": []
    },
    {
      "cell_type": "markdown",
      "metadata": {
        "id": "EAnlMLhefKwC"
      },
      "source": [
        "### `list()`  -> returns list"
      ]
    },
    {
      "cell_type": "code",
      "metadata": {
        "id": "r2s15xtifKwC"
      },
      "source": [
        "l = list()"
      ],
      "execution_count": null,
      "outputs": []
    },
    {
      "cell_type": "code",
      "metadata": {
        "id": "wOYMrrgefKwD"
      },
      "source": [
        "l.append(4)"
      ],
      "execution_count": null,
      "outputs": []
    },
    {
      "cell_type": "code",
      "metadata": {
        "id": "i-eRenW1fKwD"
      },
      "source": [
        "l"
      ],
      "execution_count": null,
      "outputs": []
    },
    {
      "cell_type": "markdown",
      "metadata": {
        "id": "XyFnsWcgfKwD"
      },
      "source": [
        "### `pow(x, y)` -> returns x to the y power  "
      ]
    },
    {
      "cell_type": "code",
      "metadata": {
        "id": "-GoVjqPsfKwD"
      },
      "source": [
        "pow(2,4)"
      ],
      "execution_count": null,
      "outputs": []
    },
    {
      "cell_type": "code",
      "metadata": {
        "id": "_OTeqZz5fKwD"
      },
      "source": [
        "pow(25,2)"
      ],
      "execution_count": null,
      "outputs": []
    },
    {
      "cell_type": "markdown",
      "metadata": {
        "id": "Whbv1KpPfKwE"
      },
      "source": [
        "### `print()`  -> prints argument"
      ]
    },
    {
      "cell_type": "code",
      "metadata": {
        "id": "fVlQcA_KfKwE"
      },
      "source": [
        "print(\"hello\")"
      ],
      "execution_count": null,
      "outputs": []
    },
    {
      "cell_type": "code",
      "metadata": {
        "id": "B6-DnDF3fKwE"
      },
      "source": [
        "print(25)"
      ],
      "execution_count": null,
      "outputs": []
    },
    {
      "cell_type": "code",
      "metadata": {
        "id": "XK-QcP8JfKwE"
      },
      "source": [
        "print(True)"
      ],
      "execution_count": null,
      "outputs": []
    },
    {
      "cell_type": "markdown",
      "metadata": {
        "id": "lkXBEGaEfKwE"
      },
      "source": [
        "### `range()`  returns iterable of sequential values"
      ]
    },
    {
      "cell_type": "code",
      "metadata": {
        "id": "o9KHVmKAfKwE"
      },
      "source": [
        "range(100)"
      ],
      "execution_count": null,
      "outputs": []
    },
    {
      "cell_type": "code",
      "metadata": {
        "id": "BcZ53PLAfKwE"
      },
      "source": [
        "range(5,10)"
      ],
      "execution_count": null,
      "outputs": []
    },
    {
      "cell_type": "code",
      "metadata": {
        "id": "YfundUikfKwE"
      },
      "source": [
        "[i for i in range(10)]"
      ],
      "execution_count": null,
      "outputs": []
    },
    {
      "cell_type": "markdown",
      "metadata": {
        "id": "tOI1JSzufKwF"
      },
      "source": [
        "### `round(x)` -> returns x rounded to nearest"
      ]
    },
    {
      "cell_type": "code",
      "metadata": {
        "id": "YZZs4WqcfKwF"
      },
      "source": [
        "round(132320.0324534521, 10)"
      ],
      "execution_count": null,
      "outputs": []
    },
    {
      "cell_type": "markdown",
      "metadata": {
        "id": "JzckrgvffKwF"
      },
      "source": [
        "### `set()` "
      ]
    },
    {
      "cell_type": "code",
      "metadata": {
        "id": "YhOIYVd2fKwF"
      },
      "source": [
        "s = set()"
      ],
      "execution_count": null,
      "outputs": []
    },
    {
      "cell_type": "code",
      "metadata": {
        "id": "h20BSfkEfKwF"
      },
      "source": [
        "s.add(4)"
      ],
      "execution_count": null,
      "outputs": []
    },
    {
      "cell_type": "code",
      "metadata": {
        "id": "vRilekdpfKwF"
      },
      "source": [
        "s"
      ],
      "execution_count": null,
      "outputs": []
    },
    {
      "cell_type": "markdown",
      "metadata": {
        "id": "O5kl6nf8fKwF"
      },
      "source": [
        "### `str(x)`  -> casts x as string"
      ]
    },
    {
      "cell_type": "code",
      "metadata": {
        "id": "_UPPgXbMfKwF"
      },
      "source": [
        "str(718)"
      ],
      "execution_count": null,
      "outputs": []
    },
    {
      "cell_type": "code",
      "metadata": {
        "id": "oL9TnPu8fKwF"
      },
      "source": [
        "str(True)"
      ],
      "execution_count": null,
      "outputs": []
    },
    {
      "cell_type": "code",
      "metadata": {
        "id": "bLQaxw-yfKwG"
      },
      "source": [
        "str([2,3,4,5])"
      ],
      "execution_count": null,
      "outputs": []
    },
    {
      "cell_type": "code",
      "metadata": {
        "id": "8ka8hYRVfKwG"
      },
      "source": [
        "t"
      ],
      "execution_count": null,
      "outputs": []
    },
    {
      "cell_type": "markdown",
      "metadata": {
        "id": "zfBsswekfKwG"
      },
      "source": [
        "### `type()`  "
      ]
    },
    {
      "cell_type": "code",
      "metadata": {
        "id": "PmZpkuW1fKwG"
      },
      "source": [
        "type(\"string\")"
      ],
      "execution_count": null,
      "outputs": []
    },
    {
      "cell_type": "markdown",
      "metadata": {
        "id": "FJ4nOVNBfKwG"
      },
      "source": [
        "### Dunder methods"
      ]
    },
    {
      "cell_type": "code",
      "metadata": {
        "id": "VimWro0zfKwG"
      },
      "source": [
        "s = str()\n",
        "[i for i in dir(s) if i.endswith('_')]"
      ],
      "execution_count": null,
      "outputs": []
    },
    {
      "cell_type": "code",
      "metadata": {
        "id": "wIKVdJFjfKwG"
      },
      "source": [
        "print(s.__doc__)"
      ],
      "execution_count": null,
      "outputs": []
    },
    {
      "cell_type": "code",
      "metadata": {
        "id": "38eC4YJafKwG"
      },
      "source": [
        "print(s.__str__)"
      ],
      "execution_count": null,
      "outputs": []
    },
    {
      "cell_type": "code",
      "metadata": {
        "id": "bb9FGoU-fKwG"
      },
      "source": [
        "print(s.__repr__)"
      ],
      "execution_count": null,
      "outputs": []
    },
    {
      "cell_type": "code",
      "metadata": {
        "id": "JjXnx04EfKwH"
      },
      "source": [
        "print(s.__len__)"
      ],
      "execution_count": null,
      "outputs": []
    },
    {
      "cell_type": "code",
      "metadata": {
        "id": "nKNYrdtDfKwH"
      },
      "source": [
        "print(s.__class__)"
      ],
      "execution_count": null,
      "outputs": []
    },
    {
      "cell_type": "code",
      "metadata": {
        "id": "NZWquiOgfKwH"
      },
      "source": [
        "print(s.__dir__)"
      ],
      "execution_count": null,
      "outputs": []
    },
    {
      "cell_type": "code",
      "metadata": {
        "id": "DvpAD0MEfKwH"
      },
      "source": [
        "print(s.__init__)"
      ],
      "execution_count": null,
      "outputs": []
    },
    {
      "cell_type": "code",
      "metadata": {
        "scrolled": true,
        "id": "iEkquCelfKwH"
      },
      "source": [
        "bool.__doc__"
      ],
      "execution_count": null,
      "outputs": []
    },
    {
      "cell_type": "markdown",
      "metadata": {
        "id": "5KvRZSJffKwH"
      },
      "source": [
        "# Built In Exceptions"
      ]
    },
    {
      "cell_type": "code",
      "metadata": {
        "id": "CV_5-HlFfKwH"
      },
      "source": [
        "\"123\"[9]"
      ],
      "execution_count": null,
      "outputs": []
    },
    {
      "cell_type": "code",
      "metadata": {
        "id": "dSgFCKqhfKwH"
      },
      "source": [
        "try:\n",
        "    \"123\"[9]\n",
        "except Exception as e:\n",
        "    print(e)"
      ],
      "execution_count": null,
      "outputs": []
    },
    {
      "cell_type": "code",
      "metadata": {
        "id": "QwUVAhgrfKwI"
      },
      "source": [
        "raise Exception"
      ],
      "execution_count": null,
      "outputs": []
    },
    {
      "cell_type": "code",
      "metadata": {
        "id": "sPCWwanhfKwI"
      },
      "source": [
        "type(Exception)"
      ],
      "execution_count": null,
      "outputs": []
    },
    {
      "cell_type": "markdown",
      "metadata": {
        "id": "G6BQ2GcJfKwI"
      },
      "source": [
        "# Python Documentation"
      ]
    },
    {
      "cell_type": "code",
      "metadata": {
        "scrolled": true,
        "id": "OllkEoKifKwI"
      },
      "source": [
        "help()"
      ],
      "execution_count": null,
      "outputs": []
    },
    {
      "cell_type": "markdown",
      "metadata": {
        "id": "e5Y5SMgRfKwI"
      },
      "source": [
        "<div style=\"background: #000;\n",
        "            color: #FFF;\n",
        "            margin: 0px;\n",
        "                padding: 10px 0px 20px 0px;\n",
        "            text-align: center; \n",
        "                \">\n",
        "    <h1>Extended Lab</h1>\n",
        "</div>\n"
      ]
    },
    {
      "cell_type": "markdown",
      "metadata": {
        "id": "hAk7XRxffKwI"
      },
      "source": [
        "### Question 1: \n",
        "\n",
        "Explain what data types are in your own words."
      ]
    },
    {
      "cell_type": "markdown",
      "metadata": {
        "id": "0UZnoO-wfKwI"
      },
      "source": [
        "Data types are variables where you can store different categories of information."
      ]
    },
    {
      "cell_type": "markdown",
      "metadata": {
        "id": "olU95WAJfKwI"
      },
      "source": [
        "## Question 2:\n",
        "\n",
        "In your own words, explain what a float is and why sometimes it gives an incorrect value."
      ]
    },
    {
      "cell_type": "markdown",
      "metadata": {
        "id": "KchZhCwFfKwJ"
      },
      "source": [
        "Float variables include all numerical numbers including decimals. It sometimes gives an incorrect value because for repeating decimals or limitless decimals it cuts off and rounds the decimal due to limited space."
      ]
    },
    {
      "cell_type": "markdown",
      "metadata": {
        "id": "a80fVx5XfKwJ"
      },
      "source": [
        "### Exercise 1:\n",
        "\n",
        "Store your first name, in lowercase, in a variable.\n",
        "Using that one variable, print your name in lowercase, Titlecase, and UPPERCASE.\n"
      ]
    },
    {
      "cell_type": "code",
      "metadata": {
        "id": "1OQ3MlUbfKwJ",
        "outputId": "03d6c3bb-74f7-4813-b2f1-98c79d0ac484",
        "colab": {
          "base_uri": "https://localhost:8080/"
        }
      },
      "source": [
        "name = \"ann\"\n",
        "print (name)\n",
        "print (name.title())\n",
        "print (name.upper())"
      ],
      "execution_count": 5,
      "outputs": [
        {
          "output_type": "stream",
          "name": "stdout",
          "text": [
            "ann\n",
            "Ann\n",
            "ANN\n"
          ]
        }
      ]
    },
    {
      "cell_type": "markdown",
      "metadata": {
        "id": "LFoH7EwrfKwJ"
      },
      "source": [
        "### Exercise 2:\n",
        "\n",
        "Find a quote that you like. Store the quote in a variable, with an appropriate introduction such as \"Ken Thompson once said, 'One of my most productive days was throwing away 1000 lines of code'\". Print the quote 1000 times."
      ]
    },
    {
      "cell_type": "code",
      "metadata": {
        "id": "P_kepXN-fKwJ",
        "outputId": "9d5d6025-3083-46b1-c3a0-290a8692700d",
        "colab": {
          "base_uri": "https://localhost:8080/"
        }
      },
      "source": [
        "quote = \"There are many solutions to a problem, but don't choose the the option that hurts you the most. -Artem Wing\"\n",
        "def cycle():\n",
        "    while True:\n",
        "        yield (quote)\n",
        "y = cycle()\n",
        "for i in range(1000):\n",
        "    print(next(y))"
      ],
      "execution_count": 8,
      "outputs": [
        {
          "output_type": "stream",
          "name": "stdout",
          "text": [
            "There are many solutions to a problem, but don't choose the the option that hurts you the most. -Artem Wing\n",
            "There are many solutions to a problem, but don't choose the the option that hurts you the most. -Artem Wing\n",
            "There are many solutions to a problem, but don't choose the the option that hurts you the most. -Artem Wing\n",
            "There are many solutions to a problem, but don't choose the the option that hurts you the most. -Artem Wing\n",
            "There are many solutions to a problem, but don't choose the the option that hurts you the most. -Artem Wing\n",
            "There are many solutions to a problem, but don't choose the the option that hurts you the most. -Artem Wing\n",
            "There are many solutions to a problem, but don't choose the the option that hurts you the most. -Artem Wing\n",
            "There are many solutions to a problem, but don't choose the the option that hurts you the most. -Artem Wing\n",
            "There are many solutions to a problem, but don't choose the the option that hurts you the most. -Artem Wing\n",
            "There are many solutions to a problem, but don't choose the the option that hurts you the most. -Artem Wing\n",
            "There are many solutions to a problem, but don't choose the the option that hurts you the most. -Artem Wing\n",
            "There are many solutions to a problem, but don't choose the the option that hurts you the most. -Artem Wing\n",
            "There are many solutions to a problem, but don't choose the the option that hurts you the most. -Artem Wing\n",
            "There are many solutions to a problem, but don't choose the the option that hurts you the most. -Artem Wing\n",
            "There are many solutions to a problem, but don't choose the the option that hurts you the most. -Artem Wing\n",
            "There are many solutions to a problem, but don't choose the the option that hurts you the most. -Artem Wing\n",
            "There are many solutions to a problem, but don't choose the the option that hurts you the most. -Artem Wing\n",
            "There are many solutions to a problem, but don't choose the the option that hurts you the most. -Artem Wing\n",
            "There are many solutions to a problem, but don't choose the the option that hurts you the most. -Artem Wing\n",
            "There are many solutions to a problem, but don't choose the the option that hurts you the most. -Artem Wing\n",
            "There are many solutions to a problem, but don't choose the the option that hurts you the most. -Artem Wing\n",
            "There are many solutions to a problem, but don't choose the the option that hurts you the most. -Artem Wing\n",
            "There are many solutions to a problem, but don't choose the the option that hurts you the most. -Artem Wing\n",
            "There are many solutions to a problem, but don't choose the the option that hurts you the most. -Artem Wing\n",
            "There are many solutions to a problem, but don't choose the the option that hurts you the most. -Artem Wing\n",
            "There are many solutions to a problem, but don't choose the the option that hurts you the most. -Artem Wing\n",
            "There are many solutions to a problem, but don't choose the the option that hurts you the most. -Artem Wing\n",
            "There are many solutions to a problem, but don't choose the the option that hurts you the most. -Artem Wing\n",
            "There are many solutions to a problem, but don't choose the the option that hurts you the most. -Artem Wing\n",
            "There are many solutions to a problem, but don't choose the the option that hurts you the most. -Artem Wing\n",
            "There are many solutions to a problem, but don't choose the the option that hurts you the most. -Artem Wing\n",
            "There are many solutions to a problem, but don't choose the the option that hurts you the most. -Artem Wing\n",
            "There are many solutions to a problem, but don't choose the the option that hurts you the most. -Artem Wing\n",
            "There are many solutions to a problem, but don't choose the the option that hurts you the most. -Artem Wing\n",
            "There are many solutions to a problem, but don't choose the the option that hurts you the most. -Artem Wing\n",
            "There are many solutions to a problem, but don't choose the the option that hurts you the most. -Artem Wing\n",
            "There are many solutions to a problem, but don't choose the the option that hurts you the most. -Artem Wing\n",
            "There are many solutions to a problem, but don't choose the the option that hurts you the most. -Artem Wing\n",
            "There are many solutions to a problem, but don't choose the the option that hurts you the most. -Artem Wing\n",
            "There are many solutions to a problem, but don't choose the the option that hurts you the most. -Artem Wing\n",
            "There are many solutions to a problem, but don't choose the the option that hurts you the most. -Artem Wing\n",
            "There are many solutions to a problem, but don't choose the the option that hurts you the most. -Artem Wing\n",
            "There are many solutions to a problem, but don't choose the the option that hurts you the most. -Artem Wing\n",
            "There are many solutions to a problem, but don't choose the the option that hurts you the most. -Artem Wing\n",
            "There are many solutions to a problem, but don't choose the the option that hurts you the most. -Artem Wing\n",
            "There are many solutions to a problem, but don't choose the the option that hurts you the most. -Artem Wing\n",
            "There are many solutions to a problem, but don't choose the the option that hurts you the most. -Artem Wing\n",
            "There are many solutions to a problem, but don't choose the the option that hurts you the most. -Artem Wing\n",
            "There are many solutions to a problem, but don't choose the the option that hurts you the most. -Artem Wing\n",
            "There are many solutions to a problem, but don't choose the the option that hurts you the most. -Artem Wing\n",
            "There are many solutions to a problem, but don't choose the the option that hurts you the most. -Artem Wing\n",
            "There are many solutions to a problem, but don't choose the the option that hurts you the most. -Artem Wing\n",
            "There are many solutions to a problem, but don't choose the the option that hurts you the most. -Artem Wing\n",
            "There are many solutions to a problem, but don't choose the the option that hurts you the most. -Artem Wing\n",
            "There are many solutions to a problem, but don't choose the the option that hurts you the most. -Artem Wing\n",
            "There are many solutions to a problem, but don't choose the the option that hurts you the most. -Artem Wing\n",
            "There are many solutions to a problem, but don't choose the the option that hurts you the most. -Artem Wing\n",
            "There are many solutions to a problem, but don't choose the the option that hurts you the most. -Artem Wing\n",
            "There are many solutions to a problem, but don't choose the the option that hurts you the most. -Artem Wing\n",
            "There are many solutions to a problem, but don't choose the the option that hurts you the most. -Artem Wing\n",
            "There are many solutions to a problem, but don't choose the the option that hurts you the most. -Artem Wing\n",
            "There are many solutions to a problem, but don't choose the the option that hurts you the most. -Artem Wing\n",
            "There are many solutions to a problem, but don't choose the the option that hurts you the most. -Artem Wing\n",
            "There are many solutions to a problem, but don't choose the the option that hurts you the most. -Artem Wing\n",
            "There are many solutions to a problem, but don't choose the the option that hurts you the most. -Artem Wing\n",
            "There are many solutions to a problem, but don't choose the the option that hurts you the most. -Artem Wing\n",
            "There are many solutions to a problem, but don't choose the the option that hurts you the most. -Artem Wing\n",
            "There are many solutions to a problem, but don't choose the the option that hurts you the most. -Artem Wing\n",
            "There are many solutions to a problem, but don't choose the the option that hurts you the most. -Artem Wing\n",
            "There are many solutions to a problem, but don't choose the the option that hurts you the most. -Artem Wing\n",
            "There are many solutions to a problem, but don't choose the the option that hurts you the most. -Artem Wing\n",
            "There are many solutions to a problem, but don't choose the the option that hurts you the most. -Artem Wing\n",
            "There are many solutions to a problem, but don't choose the the option that hurts you the most. -Artem Wing\n",
            "There are many solutions to a problem, but don't choose the the option that hurts you the most. -Artem Wing\n",
            "There are many solutions to a problem, but don't choose the the option that hurts you the most. -Artem Wing\n",
            "There are many solutions to a problem, but don't choose the the option that hurts you the most. -Artem Wing\n",
            "There are many solutions to a problem, but don't choose the the option that hurts you the most. -Artem Wing\n",
            "There are many solutions to a problem, but don't choose the the option that hurts you the most. -Artem Wing\n",
            "There are many solutions to a problem, but don't choose the the option that hurts you the most. -Artem Wing\n",
            "There are many solutions to a problem, but don't choose the the option that hurts you the most. -Artem Wing\n",
            "There are many solutions to a problem, but don't choose the the option that hurts you the most. -Artem Wing\n",
            "There are many solutions to a problem, but don't choose the the option that hurts you the most. -Artem Wing\n",
            "There are many solutions to a problem, but don't choose the the option that hurts you the most. -Artem Wing\n",
            "There are many solutions to a problem, but don't choose the the option that hurts you the most. -Artem Wing\n",
            "There are many solutions to a problem, but don't choose the the option that hurts you the most. -Artem Wing\n",
            "There are many solutions to a problem, but don't choose the the option that hurts you the most. -Artem Wing\n",
            "There are many solutions to a problem, but don't choose the the option that hurts you the most. -Artem Wing\n",
            "There are many solutions to a problem, but don't choose the the option that hurts you the most. -Artem Wing\n",
            "There are many solutions to a problem, but don't choose the the option that hurts you the most. -Artem Wing\n",
            "There are many solutions to a problem, but don't choose the the option that hurts you the most. -Artem Wing\n",
            "There are many solutions to a problem, but don't choose the the option that hurts you the most. -Artem Wing\n",
            "There are many solutions to a problem, but don't choose the the option that hurts you the most. -Artem Wing\n",
            "There are many solutions to a problem, but don't choose the the option that hurts you the most. -Artem Wing\n",
            "There are many solutions to a problem, but don't choose the the option that hurts you the most. -Artem Wing\n",
            "There are many solutions to a problem, but don't choose the the option that hurts you the most. -Artem Wing\n",
            "There are many solutions to a problem, but don't choose the the option that hurts you the most. -Artem Wing\n",
            "There are many solutions to a problem, but don't choose the the option that hurts you the most. -Artem Wing\n",
            "There are many solutions to a problem, but don't choose the the option that hurts you the most. -Artem Wing\n",
            "There are many solutions to a problem, but don't choose the the option that hurts you the most. -Artem Wing\n",
            "There are many solutions to a problem, but don't choose the the option that hurts you the most. -Artem Wing\n",
            "There are many solutions to a problem, but don't choose the the option that hurts you the most. -Artem Wing\n",
            "There are many solutions to a problem, but don't choose the the option that hurts you the most. -Artem Wing\n",
            "There are many solutions to a problem, but don't choose the the option that hurts you the most. -Artem Wing\n",
            "There are many solutions to a problem, but don't choose the the option that hurts you the most. -Artem Wing\n",
            "There are many solutions to a problem, but don't choose the the option that hurts you the most. -Artem Wing\n",
            "There are many solutions to a problem, but don't choose the the option that hurts you the most. -Artem Wing\n",
            "There are many solutions to a problem, but don't choose the the option that hurts you the most. -Artem Wing\n",
            "There are many solutions to a problem, but don't choose the the option that hurts you the most. -Artem Wing\n",
            "There are many solutions to a problem, but don't choose the the option that hurts you the most. -Artem Wing\n",
            "There are many solutions to a problem, but don't choose the the option that hurts you the most. -Artem Wing\n",
            "There are many solutions to a problem, but don't choose the the option that hurts you the most. -Artem Wing\n",
            "There are many solutions to a problem, but don't choose the the option that hurts you the most. -Artem Wing\n",
            "There are many solutions to a problem, but don't choose the the option that hurts you the most. -Artem Wing\n",
            "There are many solutions to a problem, but don't choose the the option that hurts you the most. -Artem Wing\n",
            "There are many solutions to a problem, but don't choose the the option that hurts you the most. -Artem Wing\n",
            "There are many solutions to a problem, but don't choose the the option that hurts you the most. -Artem Wing\n",
            "There are many solutions to a problem, but don't choose the the option that hurts you the most. -Artem Wing\n",
            "There are many solutions to a problem, but don't choose the the option that hurts you the most. -Artem Wing\n",
            "There are many solutions to a problem, but don't choose the the option that hurts you the most. -Artem Wing\n",
            "There are many solutions to a problem, but don't choose the the option that hurts you the most. -Artem Wing\n",
            "There are many solutions to a problem, but don't choose the the option that hurts you the most. -Artem Wing\n",
            "There are many solutions to a problem, but don't choose the the option that hurts you the most. -Artem Wing\n",
            "There are many solutions to a problem, but don't choose the the option that hurts you the most. -Artem Wing\n",
            "There are many solutions to a problem, but don't choose the the option that hurts you the most. -Artem Wing\n",
            "There are many solutions to a problem, but don't choose the the option that hurts you the most. -Artem Wing\n",
            "There are many solutions to a problem, but don't choose the the option that hurts you the most. -Artem Wing\n",
            "There are many solutions to a problem, but don't choose the the option that hurts you the most. -Artem Wing\n",
            "There are many solutions to a problem, but don't choose the the option that hurts you the most. -Artem Wing\n",
            "There are many solutions to a problem, but don't choose the the option that hurts you the most. -Artem Wing\n",
            "There are many solutions to a problem, but don't choose the the option that hurts you the most. -Artem Wing\n",
            "There are many solutions to a problem, but don't choose the the option that hurts you the most. -Artem Wing\n",
            "There are many solutions to a problem, but don't choose the the option that hurts you the most. -Artem Wing\n",
            "There are many solutions to a problem, but don't choose the the option that hurts you the most. -Artem Wing\n",
            "There are many solutions to a problem, but don't choose the the option that hurts you the most. -Artem Wing\n",
            "There are many solutions to a problem, but don't choose the the option that hurts you the most. -Artem Wing\n",
            "There are many solutions to a problem, but don't choose the the option that hurts you the most. -Artem Wing\n",
            "There are many solutions to a problem, but don't choose the the option that hurts you the most. -Artem Wing\n",
            "There are many solutions to a problem, but don't choose the the option that hurts you the most. -Artem Wing\n",
            "There are many solutions to a problem, but don't choose the the option that hurts you the most. -Artem Wing\n",
            "There are many solutions to a problem, but don't choose the the option that hurts you the most. -Artem Wing\n",
            "There are many solutions to a problem, but don't choose the the option that hurts you the most. -Artem Wing\n",
            "There are many solutions to a problem, but don't choose the the option that hurts you the most. -Artem Wing\n",
            "There are many solutions to a problem, but don't choose the the option that hurts you the most. -Artem Wing\n",
            "There are many solutions to a problem, but don't choose the the option that hurts you the most. -Artem Wing\n",
            "There are many solutions to a problem, but don't choose the the option that hurts you the most. -Artem Wing\n",
            "There are many solutions to a problem, but don't choose the the option that hurts you the most. -Artem Wing\n",
            "There are many solutions to a problem, but don't choose the the option that hurts you the most. -Artem Wing\n",
            "There are many solutions to a problem, but don't choose the the option that hurts you the most. -Artem Wing\n",
            "There are many solutions to a problem, but don't choose the the option that hurts you the most. -Artem Wing\n",
            "There are many solutions to a problem, but don't choose the the option that hurts you the most. -Artem Wing\n",
            "There are many solutions to a problem, but don't choose the the option that hurts you the most. -Artem Wing\n",
            "There are many solutions to a problem, but don't choose the the option that hurts you the most. -Artem Wing\n",
            "There are many solutions to a problem, but don't choose the the option that hurts you the most. -Artem Wing\n",
            "There are many solutions to a problem, but don't choose the the option that hurts you the most. -Artem Wing\n",
            "There are many solutions to a problem, but don't choose the the option that hurts you the most. -Artem Wing\n",
            "There are many solutions to a problem, but don't choose the the option that hurts you the most. -Artem Wing\n",
            "There are many solutions to a problem, but don't choose the the option that hurts you the most. -Artem Wing\n",
            "There are many solutions to a problem, but don't choose the the option that hurts you the most. -Artem Wing\n",
            "There are many solutions to a problem, but don't choose the the option that hurts you the most. -Artem Wing\n",
            "There are many solutions to a problem, but don't choose the the option that hurts you the most. -Artem Wing\n",
            "There are many solutions to a problem, but don't choose the the option that hurts you the most. -Artem Wing\n",
            "There are many solutions to a problem, but don't choose the the option that hurts you the most. -Artem Wing\n",
            "There are many solutions to a problem, but don't choose the the option that hurts you the most. -Artem Wing\n",
            "There are many solutions to a problem, but don't choose the the option that hurts you the most. -Artem Wing\n",
            "There are many solutions to a problem, but don't choose the the option that hurts you the most. -Artem Wing\n",
            "There are many solutions to a problem, but don't choose the the option that hurts you the most. -Artem Wing\n",
            "There are many solutions to a problem, but don't choose the the option that hurts you the most. -Artem Wing\n",
            "There are many solutions to a problem, but don't choose the the option that hurts you the most. -Artem Wing\n",
            "There are many solutions to a problem, but don't choose the the option that hurts you the most. -Artem Wing\n",
            "There are many solutions to a problem, but don't choose the the option that hurts you the most. -Artem Wing\n",
            "There are many solutions to a problem, but don't choose the the option that hurts you the most. -Artem Wing\n",
            "There are many solutions to a problem, but don't choose the the option that hurts you the most. -Artem Wing\n",
            "There are many solutions to a problem, but don't choose the the option that hurts you the most. -Artem Wing\n",
            "There are many solutions to a problem, but don't choose the the option that hurts you the most. -Artem Wing\n",
            "There are many solutions to a problem, but don't choose the the option that hurts you the most. -Artem Wing\n",
            "There are many solutions to a problem, but don't choose the the option that hurts you the most. -Artem Wing\n",
            "There are many solutions to a problem, but don't choose the the option that hurts you the most. -Artem Wing\n",
            "There are many solutions to a problem, but don't choose the the option that hurts you the most. -Artem Wing\n",
            "There are many solutions to a problem, but don't choose the the option that hurts you the most. -Artem Wing\n",
            "There are many solutions to a problem, but don't choose the the option that hurts you the most. -Artem Wing\n",
            "There are many solutions to a problem, but don't choose the the option that hurts you the most. -Artem Wing\n",
            "There are many solutions to a problem, but don't choose the the option that hurts you the most. -Artem Wing\n",
            "There are many solutions to a problem, but don't choose the the option that hurts you the most. -Artem Wing\n",
            "There are many solutions to a problem, but don't choose the the option that hurts you the most. -Artem Wing\n",
            "There are many solutions to a problem, but don't choose the the option that hurts you the most. -Artem Wing\n",
            "There are many solutions to a problem, but don't choose the the option that hurts you the most. -Artem Wing\n",
            "There are many solutions to a problem, but don't choose the the option that hurts you the most. -Artem Wing\n",
            "There are many solutions to a problem, but don't choose the the option that hurts you the most. -Artem Wing\n",
            "There are many solutions to a problem, but don't choose the the option that hurts you the most. -Artem Wing\n",
            "There are many solutions to a problem, but don't choose the the option that hurts you the most. -Artem Wing\n",
            "There are many solutions to a problem, but don't choose the the option that hurts you the most. -Artem Wing\n",
            "There are many solutions to a problem, but don't choose the the option that hurts you the most. -Artem Wing\n",
            "There are many solutions to a problem, but don't choose the the option that hurts you the most. -Artem Wing\n",
            "There are many solutions to a problem, but don't choose the the option that hurts you the most. -Artem Wing\n",
            "There are many solutions to a problem, but don't choose the the option that hurts you the most. -Artem Wing\n",
            "There are many solutions to a problem, but don't choose the the option that hurts you the most. -Artem Wing\n",
            "There are many solutions to a problem, but don't choose the the option that hurts you the most. -Artem Wing\n",
            "There are many solutions to a problem, but don't choose the the option that hurts you the most. -Artem Wing\n",
            "There are many solutions to a problem, but don't choose the the option that hurts you the most. -Artem Wing\n",
            "There are many solutions to a problem, but don't choose the the option that hurts you the most. -Artem Wing\n",
            "There are many solutions to a problem, but don't choose the the option that hurts you the most. -Artem Wing\n",
            "There are many solutions to a problem, but don't choose the the option that hurts you the most. -Artem Wing\n",
            "There are many solutions to a problem, but don't choose the the option that hurts you the most. -Artem Wing\n",
            "There are many solutions to a problem, but don't choose the the option that hurts you the most. -Artem Wing\n",
            "There are many solutions to a problem, but don't choose the the option that hurts you the most. -Artem Wing\n",
            "There are many solutions to a problem, but don't choose the the option that hurts you the most. -Artem Wing\n",
            "There are many solutions to a problem, but don't choose the the option that hurts you the most. -Artem Wing\n",
            "There are many solutions to a problem, but don't choose the the option that hurts you the most. -Artem Wing\n",
            "There are many solutions to a problem, but don't choose the the option that hurts you the most. -Artem Wing\n",
            "There are many solutions to a problem, but don't choose the the option that hurts you the most. -Artem Wing\n",
            "There are many solutions to a problem, but don't choose the the option that hurts you the most. -Artem Wing\n",
            "There are many solutions to a problem, but don't choose the the option that hurts you the most. -Artem Wing\n",
            "There are many solutions to a problem, but don't choose the the option that hurts you the most. -Artem Wing\n",
            "There are many solutions to a problem, but don't choose the the option that hurts you the most. -Artem Wing\n",
            "There are many solutions to a problem, but don't choose the the option that hurts you the most. -Artem Wing\n",
            "There are many solutions to a problem, but don't choose the the option that hurts you the most. -Artem Wing\n",
            "There are many solutions to a problem, but don't choose the the option that hurts you the most. -Artem Wing\n",
            "There are many solutions to a problem, but don't choose the the option that hurts you the most. -Artem Wing\n",
            "There are many solutions to a problem, but don't choose the the option that hurts you the most. -Artem Wing\n",
            "There are many solutions to a problem, but don't choose the the option that hurts you the most. -Artem Wing\n",
            "There are many solutions to a problem, but don't choose the the option that hurts you the most. -Artem Wing\n",
            "There are many solutions to a problem, but don't choose the the option that hurts you the most. -Artem Wing\n",
            "There are many solutions to a problem, but don't choose the the option that hurts you the most. -Artem Wing\n",
            "There are many solutions to a problem, but don't choose the the option that hurts you the most. -Artem Wing\n",
            "There are many solutions to a problem, but don't choose the the option that hurts you the most. -Artem Wing\n",
            "There are many solutions to a problem, but don't choose the the option that hurts you the most. -Artem Wing\n",
            "There are many solutions to a problem, but don't choose the the option that hurts you the most. -Artem Wing\n",
            "There are many solutions to a problem, but don't choose the the option that hurts you the most. -Artem Wing\n",
            "There are many solutions to a problem, but don't choose the the option that hurts you the most. -Artem Wing\n",
            "There are many solutions to a problem, but don't choose the the option that hurts you the most. -Artem Wing\n",
            "There are many solutions to a problem, but don't choose the the option that hurts you the most. -Artem Wing\n",
            "There are many solutions to a problem, but don't choose the the option that hurts you the most. -Artem Wing\n",
            "There are many solutions to a problem, but don't choose the the option that hurts you the most. -Artem Wing\n",
            "There are many solutions to a problem, but don't choose the the option that hurts you the most. -Artem Wing\n",
            "There are many solutions to a problem, but don't choose the the option that hurts you the most. -Artem Wing\n",
            "There are many solutions to a problem, but don't choose the the option that hurts you the most. -Artem Wing\n",
            "There are many solutions to a problem, but don't choose the the option that hurts you the most. -Artem Wing\n",
            "There are many solutions to a problem, but don't choose the the option that hurts you the most. -Artem Wing\n",
            "There are many solutions to a problem, but don't choose the the option that hurts you the most. -Artem Wing\n",
            "There are many solutions to a problem, but don't choose the the option that hurts you the most. -Artem Wing\n",
            "There are many solutions to a problem, but don't choose the the option that hurts you the most. -Artem Wing\n",
            "There are many solutions to a problem, but don't choose the the option that hurts you the most. -Artem Wing\n",
            "There are many solutions to a problem, but don't choose the the option that hurts you the most. -Artem Wing\n",
            "There are many solutions to a problem, but don't choose the the option that hurts you the most. -Artem Wing\n",
            "There are many solutions to a problem, but don't choose the the option that hurts you the most. -Artem Wing\n",
            "There are many solutions to a problem, but don't choose the the option that hurts you the most. -Artem Wing\n",
            "There are many solutions to a problem, but don't choose the the option that hurts you the most. -Artem Wing\n",
            "There are many solutions to a problem, but don't choose the the option that hurts you the most. -Artem Wing\n",
            "There are many solutions to a problem, but don't choose the the option that hurts you the most. -Artem Wing\n",
            "There are many solutions to a problem, but don't choose the the option that hurts you the most. -Artem Wing\n",
            "There are many solutions to a problem, but don't choose the the option that hurts you the most. -Artem Wing\n",
            "There are many solutions to a problem, but don't choose the the option that hurts you the most. -Artem Wing\n",
            "There are many solutions to a problem, but don't choose the the option that hurts you the most. -Artem Wing\n",
            "There are many solutions to a problem, but don't choose the the option that hurts you the most. -Artem Wing\n",
            "There are many solutions to a problem, but don't choose the the option that hurts you the most. -Artem Wing\n",
            "There are many solutions to a problem, but don't choose the the option that hurts you the most. -Artem Wing\n",
            "There are many solutions to a problem, but don't choose the the option that hurts you the most. -Artem Wing\n",
            "There are many solutions to a problem, but don't choose the the option that hurts you the most. -Artem Wing\n",
            "There are many solutions to a problem, but don't choose the the option that hurts you the most. -Artem Wing\n",
            "There are many solutions to a problem, but don't choose the the option that hurts you the most. -Artem Wing\n",
            "There are many solutions to a problem, but don't choose the the option that hurts you the most. -Artem Wing\n",
            "There are many solutions to a problem, but don't choose the the option that hurts you the most. -Artem Wing\n",
            "There are many solutions to a problem, but don't choose the the option that hurts you the most. -Artem Wing\n",
            "There are many solutions to a problem, but don't choose the the option that hurts you the most. -Artem Wing\n",
            "There are many solutions to a problem, but don't choose the the option that hurts you the most. -Artem Wing\n",
            "There are many solutions to a problem, but don't choose the the option that hurts you the most. -Artem Wing\n",
            "There are many solutions to a problem, but don't choose the the option that hurts you the most. -Artem Wing\n",
            "There are many solutions to a problem, but don't choose the the option that hurts you the most. -Artem Wing\n",
            "There are many solutions to a problem, but don't choose the the option that hurts you the most. -Artem Wing\n",
            "There are many solutions to a problem, but don't choose the the option that hurts you the most. -Artem Wing\n",
            "There are many solutions to a problem, but don't choose the the option that hurts you the most. -Artem Wing\n",
            "There are many solutions to a problem, but don't choose the the option that hurts you the most. -Artem Wing\n",
            "There are many solutions to a problem, but don't choose the the option that hurts you the most. -Artem Wing\n",
            "There are many solutions to a problem, but don't choose the the option that hurts you the most. -Artem Wing\n",
            "There are many solutions to a problem, but don't choose the the option that hurts you the most. -Artem Wing\n",
            "There are many solutions to a problem, but don't choose the the option that hurts you the most. -Artem Wing\n",
            "There are many solutions to a problem, but don't choose the the option that hurts you the most. -Artem Wing\n",
            "There are many solutions to a problem, but don't choose the the option that hurts you the most. -Artem Wing\n",
            "There are many solutions to a problem, but don't choose the the option that hurts you the most. -Artem Wing\n",
            "There are many solutions to a problem, but don't choose the the option that hurts you the most. -Artem Wing\n",
            "There are many solutions to a problem, but don't choose the the option that hurts you the most. -Artem Wing\n",
            "There are many solutions to a problem, but don't choose the the option that hurts you the most. -Artem Wing\n",
            "There are many solutions to a problem, but don't choose the the option that hurts you the most. -Artem Wing\n",
            "There are many solutions to a problem, but don't choose the the option that hurts you the most. -Artem Wing\n",
            "There are many solutions to a problem, but don't choose the the option that hurts you the most. -Artem Wing\n",
            "There are many solutions to a problem, but don't choose the the option that hurts you the most. -Artem Wing\n",
            "There are many solutions to a problem, but don't choose the the option that hurts you the most. -Artem Wing\n",
            "There are many solutions to a problem, but don't choose the the option that hurts you the most. -Artem Wing\n",
            "There are many solutions to a problem, but don't choose the the option that hurts you the most. -Artem Wing\n",
            "There are many solutions to a problem, but don't choose the the option that hurts you the most. -Artem Wing\n",
            "There are many solutions to a problem, but don't choose the the option that hurts you the most. -Artem Wing\n",
            "There are many solutions to a problem, but don't choose the the option that hurts you the most. -Artem Wing\n",
            "There are many solutions to a problem, but don't choose the the option that hurts you the most. -Artem Wing\n",
            "There are many solutions to a problem, but don't choose the the option that hurts you the most. -Artem Wing\n",
            "There are many solutions to a problem, but don't choose the the option that hurts you the most. -Artem Wing\n",
            "There are many solutions to a problem, but don't choose the the option that hurts you the most. -Artem Wing\n",
            "There are many solutions to a problem, but don't choose the the option that hurts you the most. -Artem Wing\n",
            "There are many solutions to a problem, but don't choose the the option that hurts you the most. -Artem Wing\n",
            "There are many solutions to a problem, but don't choose the the option that hurts you the most. -Artem Wing\n",
            "There are many solutions to a problem, but don't choose the the option that hurts you the most. -Artem Wing\n",
            "There are many solutions to a problem, but don't choose the the option that hurts you the most. -Artem Wing\n",
            "There are many solutions to a problem, but don't choose the the option that hurts you the most. -Artem Wing\n",
            "There are many solutions to a problem, but don't choose the the option that hurts you the most. -Artem Wing\n",
            "There are many solutions to a problem, but don't choose the the option that hurts you the most. -Artem Wing\n",
            "There are many solutions to a problem, but don't choose the the option that hurts you the most. -Artem Wing\n",
            "There are many solutions to a problem, but don't choose the the option that hurts you the most. -Artem Wing\n",
            "There are many solutions to a problem, but don't choose the the option that hurts you the most. -Artem Wing\n",
            "There are many solutions to a problem, but don't choose the the option that hurts you the most. -Artem Wing\n",
            "There are many solutions to a problem, but don't choose the the option that hurts you the most. -Artem Wing\n",
            "There are many solutions to a problem, but don't choose the the option that hurts you the most. -Artem Wing\n",
            "There are many solutions to a problem, but don't choose the the option that hurts you the most. -Artem Wing\n",
            "There are many solutions to a problem, but don't choose the the option that hurts you the most. -Artem Wing\n",
            "There are many solutions to a problem, but don't choose the the option that hurts you the most. -Artem Wing\n",
            "There are many solutions to a problem, but don't choose the the option that hurts you the most. -Artem Wing\n",
            "There are many solutions to a problem, but don't choose the the option that hurts you the most. -Artem Wing\n",
            "There are many solutions to a problem, but don't choose the the option that hurts you the most. -Artem Wing\n",
            "There are many solutions to a problem, but don't choose the the option that hurts you the most. -Artem Wing\n",
            "There are many solutions to a problem, but don't choose the the option that hurts you the most. -Artem Wing\n",
            "There are many solutions to a problem, but don't choose the the option that hurts you the most. -Artem Wing\n",
            "There are many solutions to a problem, but don't choose the the option that hurts you the most. -Artem Wing\n",
            "There are many solutions to a problem, but don't choose the the option that hurts you the most. -Artem Wing\n",
            "There are many solutions to a problem, but don't choose the the option that hurts you the most. -Artem Wing\n",
            "There are many solutions to a problem, but don't choose the the option that hurts you the most. -Artem Wing\n",
            "There are many solutions to a problem, but don't choose the the option that hurts you the most. -Artem Wing\n",
            "There are many solutions to a problem, but don't choose the the option that hurts you the most. -Artem Wing\n",
            "There are many solutions to a problem, but don't choose the the option that hurts you the most. -Artem Wing\n",
            "There are many solutions to a problem, but don't choose the the option that hurts you the most. -Artem Wing\n",
            "There are many solutions to a problem, but don't choose the the option that hurts you the most. -Artem Wing\n",
            "There are many solutions to a problem, but don't choose the the option that hurts you the most. -Artem Wing\n",
            "There are many solutions to a problem, but don't choose the the option that hurts you the most. -Artem Wing\n",
            "There are many solutions to a problem, but don't choose the the option that hurts you the most. -Artem Wing\n",
            "There are many solutions to a problem, but don't choose the the option that hurts you the most. -Artem Wing\n",
            "There are many solutions to a problem, but don't choose the the option that hurts you the most. -Artem Wing\n",
            "There are many solutions to a problem, but don't choose the the option that hurts you the most. -Artem Wing\n",
            "There are many solutions to a problem, but don't choose the the option that hurts you the most. -Artem Wing\n",
            "There are many solutions to a problem, but don't choose the the option that hurts you the most. -Artem Wing\n",
            "There are many solutions to a problem, but don't choose the the option that hurts you the most. -Artem Wing\n",
            "There are many solutions to a problem, but don't choose the the option that hurts you the most. -Artem Wing\n",
            "There are many solutions to a problem, but don't choose the the option that hurts you the most. -Artem Wing\n",
            "There are many solutions to a problem, but don't choose the the option that hurts you the most. -Artem Wing\n",
            "There are many solutions to a problem, but don't choose the the option that hurts you the most. -Artem Wing\n",
            "There are many solutions to a problem, but don't choose the the option that hurts you the most. -Artem Wing\n",
            "There are many solutions to a problem, but don't choose the the option that hurts you the most. -Artem Wing\n",
            "There are many solutions to a problem, but don't choose the the option that hurts you the most. -Artem Wing\n",
            "There are many solutions to a problem, but don't choose the the option that hurts you the most. -Artem Wing\n",
            "There are many solutions to a problem, but don't choose the the option that hurts you the most. -Artem Wing\n",
            "There are many solutions to a problem, but don't choose the the option that hurts you the most. -Artem Wing\n",
            "There are many solutions to a problem, but don't choose the the option that hurts you the most. -Artem Wing\n",
            "There are many solutions to a problem, but don't choose the the option that hurts you the most. -Artem Wing\n",
            "There are many solutions to a problem, but don't choose the the option that hurts you the most. -Artem Wing\n",
            "There are many solutions to a problem, but don't choose the the option that hurts you the most. -Artem Wing\n",
            "There are many solutions to a problem, but don't choose the the option that hurts you the most. -Artem Wing\n",
            "There are many solutions to a problem, but don't choose the the option that hurts you the most. -Artem Wing\n",
            "There are many solutions to a problem, but don't choose the the option that hurts you the most. -Artem Wing\n",
            "There are many solutions to a problem, but don't choose the the option that hurts you the most. -Artem Wing\n",
            "There are many solutions to a problem, but don't choose the the option that hurts you the most. -Artem Wing\n",
            "There are many solutions to a problem, but don't choose the the option that hurts you the most. -Artem Wing\n",
            "There are many solutions to a problem, but don't choose the the option that hurts you the most. -Artem Wing\n",
            "There are many solutions to a problem, but don't choose the the option that hurts you the most. -Artem Wing\n",
            "There are many solutions to a problem, but don't choose the the option that hurts you the most. -Artem Wing\n",
            "There are many solutions to a problem, but don't choose the the option that hurts you the most. -Artem Wing\n",
            "There are many solutions to a problem, but don't choose the the option that hurts you the most. -Artem Wing\n",
            "There are many solutions to a problem, but don't choose the the option that hurts you the most. -Artem Wing\n",
            "There are many solutions to a problem, but don't choose the the option that hurts you the most. -Artem Wing\n",
            "There are many solutions to a problem, but don't choose the the option that hurts you the most. -Artem Wing\n",
            "There are many solutions to a problem, but don't choose the the option that hurts you the most. -Artem Wing\n",
            "There are many solutions to a problem, but don't choose the the option that hurts you the most. -Artem Wing\n",
            "There are many solutions to a problem, but don't choose the the option that hurts you the most. -Artem Wing\n",
            "There are many solutions to a problem, but don't choose the the option that hurts you the most. -Artem Wing\n",
            "There are many solutions to a problem, but don't choose the the option that hurts you the most. -Artem Wing\n",
            "There are many solutions to a problem, but don't choose the the option that hurts you the most. -Artem Wing\n",
            "There are many solutions to a problem, but don't choose the the option that hurts you the most. -Artem Wing\n",
            "There are many solutions to a problem, but don't choose the the option that hurts you the most. -Artem Wing\n",
            "There are many solutions to a problem, but don't choose the the option that hurts you the most. -Artem Wing\n",
            "There are many solutions to a problem, but don't choose the the option that hurts you the most. -Artem Wing\n",
            "There are many solutions to a problem, but don't choose the the option that hurts you the most. -Artem Wing\n",
            "There are many solutions to a problem, but don't choose the the option that hurts you the most. -Artem Wing\n",
            "There are many solutions to a problem, but don't choose the the option that hurts you the most. -Artem Wing\n",
            "There are many solutions to a problem, but don't choose the the option that hurts you the most. -Artem Wing\n",
            "There are many solutions to a problem, but don't choose the the option that hurts you the most. -Artem Wing\n",
            "There are many solutions to a problem, but don't choose the the option that hurts you the most. -Artem Wing\n",
            "There are many solutions to a problem, but don't choose the the option that hurts you the most. -Artem Wing\n",
            "There are many solutions to a problem, but don't choose the the option that hurts you the most. -Artem Wing\n",
            "There are many solutions to a problem, but don't choose the the option that hurts you the most. -Artem Wing\n",
            "There are many solutions to a problem, but don't choose the the option that hurts you the most. -Artem Wing\n",
            "There are many solutions to a problem, but don't choose the the option that hurts you the most. -Artem Wing\n",
            "There are many solutions to a problem, but don't choose the the option that hurts you the most. -Artem Wing\n",
            "There are many solutions to a problem, but don't choose the the option that hurts you the most. -Artem Wing\n",
            "There are many solutions to a problem, but don't choose the the option that hurts you the most. -Artem Wing\n",
            "There are many solutions to a problem, but don't choose the the option that hurts you the most. -Artem Wing\n",
            "There are many solutions to a problem, but don't choose the the option that hurts you the most. -Artem Wing\n",
            "There are many solutions to a problem, but don't choose the the option that hurts you the most. -Artem Wing\n",
            "There are many solutions to a problem, but don't choose the the option that hurts you the most. -Artem Wing\n",
            "There are many solutions to a problem, but don't choose the the option that hurts you the most. -Artem Wing\n",
            "There are many solutions to a problem, but don't choose the the option that hurts you the most. -Artem Wing\n",
            "There are many solutions to a problem, but don't choose the the option that hurts you the most. -Artem Wing\n",
            "There are many solutions to a problem, but don't choose the the option that hurts you the most. -Artem Wing\n",
            "There are many solutions to a problem, but don't choose the the option that hurts you the most. -Artem Wing\n",
            "There are many solutions to a problem, but don't choose the the option that hurts you the most. -Artem Wing\n",
            "There are many solutions to a problem, but don't choose the the option that hurts you the most. -Artem Wing\n",
            "There are many solutions to a problem, but don't choose the the option that hurts you the most. -Artem Wing\n",
            "There are many solutions to a problem, but don't choose the the option that hurts you the most. -Artem Wing\n",
            "There are many solutions to a problem, but don't choose the the option that hurts you the most. -Artem Wing\n",
            "There are many solutions to a problem, but don't choose the the option that hurts you the most. -Artem Wing\n",
            "There are many solutions to a problem, but don't choose the the option that hurts you the most. -Artem Wing\n",
            "There are many solutions to a problem, but don't choose the the option that hurts you the most. -Artem Wing\n",
            "There are many solutions to a problem, but don't choose the the option that hurts you the most. -Artem Wing\n",
            "There are many solutions to a problem, but don't choose the the option that hurts you the most. -Artem Wing\n",
            "There are many solutions to a problem, but don't choose the the option that hurts you the most. -Artem Wing\n",
            "There are many solutions to a problem, but don't choose the the option that hurts you the most. -Artem Wing\n",
            "There are many solutions to a problem, but don't choose the the option that hurts you the most. -Artem Wing\n",
            "There are many solutions to a problem, but don't choose the the option that hurts you the most. -Artem Wing\n",
            "There are many solutions to a problem, but don't choose the the option that hurts you the most. -Artem Wing\n",
            "There are many solutions to a problem, but don't choose the the option that hurts you the most. -Artem Wing\n",
            "There are many solutions to a problem, but don't choose the the option that hurts you the most. -Artem Wing\n",
            "There are many solutions to a problem, but don't choose the the option that hurts you the most. -Artem Wing\n",
            "There are many solutions to a problem, but don't choose the the option that hurts you the most. -Artem Wing\n",
            "There are many solutions to a problem, but don't choose the the option that hurts you the most. -Artem Wing\n",
            "There are many solutions to a problem, but don't choose the the option that hurts you the most. -Artem Wing\n",
            "There are many solutions to a problem, but don't choose the the option that hurts you the most. -Artem Wing\n",
            "There are many solutions to a problem, but don't choose the the option that hurts you the most. -Artem Wing\n",
            "There are many solutions to a problem, but don't choose the the option that hurts you the most. -Artem Wing\n",
            "There are many solutions to a problem, but don't choose the the option that hurts you the most. -Artem Wing\n",
            "There are many solutions to a problem, but don't choose the the option that hurts you the most. -Artem Wing\n",
            "There are many solutions to a problem, but don't choose the the option that hurts you the most. -Artem Wing\n",
            "There are many solutions to a problem, but don't choose the the option that hurts you the most. -Artem Wing\n",
            "There are many solutions to a problem, but don't choose the the option that hurts you the most. -Artem Wing\n",
            "There are many solutions to a problem, but don't choose the the option that hurts you the most. -Artem Wing\n",
            "There are many solutions to a problem, but don't choose the the option that hurts you the most. -Artem Wing\n",
            "There are many solutions to a problem, but don't choose the the option that hurts you the most. -Artem Wing\n",
            "There are many solutions to a problem, but don't choose the the option that hurts you the most. -Artem Wing\n",
            "There are many solutions to a problem, but don't choose the the option that hurts you the most. -Artem Wing\n",
            "There are many solutions to a problem, but don't choose the the option that hurts you the most. -Artem Wing\n",
            "There are many solutions to a problem, but don't choose the the option that hurts you the most. -Artem Wing\n",
            "There are many solutions to a problem, but don't choose the the option that hurts you the most. -Artem Wing\n",
            "There are many solutions to a problem, but don't choose the the option that hurts you the most. -Artem Wing\n",
            "There are many solutions to a problem, but don't choose the the option that hurts you the most. -Artem Wing\n",
            "There are many solutions to a problem, but don't choose the the option that hurts you the most. -Artem Wing\n",
            "There are many solutions to a problem, but don't choose the the option that hurts you the most. -Artem Wing\n",
            "There are many solutions to a problem, but don't choose the the option that hurts you the most. -Artem Wing\n",
            "There are many solutions to a problem, but don't choose the the option that hurts you the most. -Artem Wing\n",
            "There are many solutions to a problem, but don't choose the the option that hurts you the most. -Artem Wing\n",
            "There are many solutions to a problem, but don't choose the the option that hurts you the most. -Artem Wing\n",
            "There are many solutions to a problem, but don't choose the the option that hurts you the most. -Artem Wing\n",
            "There are many solutions to a problem, but don't choose the the option that hurts you the most. -Artem Wing\n",
            "There are many solutions to a problem, but don't choose the the option that hurts you the most. -Artem Wing\n",
            "There are many solutions to a problem, but don't choose the the option that hurts you the most. -Artem Wing\n",
            "There are many solutions to a problem, but don't choose the the option that hurts you the most. -Artem Wing\n",
            "There are many solutions to a problem, but don't choose the the option that hurts you the most. -Artem Wing\n",
            "There are many solutions to a problem, but don't choose the the option that hurts you the most. -Artem Wing\n",
            "There are many solutions to a problem, but don't choose the the option that hurts you the most. -Artem Wing\n",
            "There are many solutions to a problem, but don't choose the the option that hurts you the most. -Artem Wing\n",
            "There are many solutions to a problem, but don't choose the the option that hurts you the most. -Artem Wing\n",
            "There are many solutions to a problem, but don't choose the the option that hurts you the most. -Artem Wing\n",
            "There are many solutions to a problem, but don't choose the the option that hurts you the most. -Artem Wing\n",
            "There are many solutions to a problem, but don't choose the the option that hurts you the most. -Artem Wing\n",
            "There are many solutions to a problem, but don't choose the the option that hurts you the most. -Artem Wing\n",
            "There are many solutions to a problem, but don't choose the the option that hurts you the most. -Artem Wing\n",
            "There are many solutions to a problem, but don't choose the the option that hurts you the most. -Artem Wing\n",
            "There are many solutions to a problem, but don't choose the the option that hurts you the most. -Artem Wing\n",
            "There are many solutions to a problem, but don't choose the the option that hurts you the most. -Artem Wing\n",
            "There are many solutions to a problem, but don't choose the the option that hurts you the most. -Artem Wing\n",
            "There are many solutions to a problem, but don't choose the the option that hurts you the most. -Artem Wing\n",
            "There are many solutions to a problem, but don't choose the the option that hurts you the most. -Artem Wing\n",
            "There are many solutions to a problem, but don't choose the the option that hurts you the most. -Artem Wing\n",
            "There are many solutions to a problem, but don't choose the the option that hurts you the most. -Artem Wing\n",
            "There are many solutions to a problem, but don't choose the the option that hurts you the most. -Artem Wing\n",
            "There are many solutions to a problem, but don't choose the the option that hurts you the most. -Artem Wing\n",
            "There are many solutions to a problem, but don't choose the the option that hurts you the most. -Artem Wing\n",
            "There are many solutions to a problem, but don't choose the the option that hurts you the most. -Artem Wing\n",
            "There are many solutions to a problem, but don't choose the the option that hurts you the most. -Artem Wing\n",
            "There are many solutions to a problem, but don't choose the the option that hurts you the most. -Artem Wing\n",
            "There are many solutions to a problem, but don't choose the the option that hurts you the most. -Artem Wing\n",
            "There are many solutions to a problem, but don't choose the the option that hurts you the most. -Artem Wing\n",
            "There are many solutions to a problem, but don't choose the the option that hurts you the most. -Artem Wing\n",
            "There are many solutions to a problem, but don't choose the the option that hurts you the most. -Artem Wing\n",
            "There are many solutions to a problem, but don't choose the the option that hurts you the most. -Artem Wing\n",
            "There are many solutions to a problem, but don't choose the the option that hurts you the most. -Artem Wing\n",
            "There are many solutions to a problem, but don't choose the the option that hurts you the most. -Artem Wing\n",
            "There are many solutions to a problem, but don't choose the the option that hurts you the most. -Artem Wing\n",
            "There are many solutions to a problem, but don't choose the the option that hurts you the most. -Artem Wing\n",
            "There are many solutions to a problem, but don't choose the the option that hurts you the most. -Artem Wing\n",
            "There are many solutions to a problem, but don't choose the the option that hurts you the most. -Artem Wing\n",
            "There are many solutions to a problem, but don't choose the the option that hurts you the most. -Artem Wing\n",
            "There are many solutions to a problem, but don't choose the the option that hurts you the most. -Artem Wing\n",
            "There are many solutions to a problem, but don't choose the the option that hurts you the most. -Artem Wing\n",
            "There are many solutions to a problem, but don't choose the the option that hurts you the most. -Artem Wing\n",
            "There are many solutions to a problem, but don't choose the the option that hurts you the most. -Artem Wing\n",
            "There are many solutions to a problem, but don't choose the the option that hurts you the most. -Artem Wing\n",
            "There are many solutions to a problem, but don't choose the the option that hurts you the most. -Artem Wing\n",
            "There are many solutions to a problem, but don't choose the the option that hurts you the most. -Artem Wing\n",
            "There are many solutions to a problem, but don't choose the the option that hurts you the most. -Artem Wing\n",
            "There are many solutions to a problem, but don't choose the the option that hurts you the most. -Artem Wing\n",
            "There are many solutions to a problem, but don't choose the the option that hurts you the most. -Artem Wing\n",
            "There are many solutions to a problem, but don't choose the the option that hurts you the most. -Artem Wing\n",
            "There are many solutions to a problem, but don't choose the the option that hurts you the most. -Artem Wing\n",
            "There are many solutions to a problem, but don't choose the the option that hurts you the most. -Artem Wing\n",
            "There are many solutions to a problem, but don't choose the the option that hurts you the most. -Artem Wing\n",
            "There are many solutions to a problem, but don't choose the the option that hurts you the most. -Artem Wing\n",
            "There are many solutions to a problem, but don't choose the the option that hurts you the most. -Artem Wing\n",
            "There are many solutions to a problem, but don't choose the the option that hurts you the most. -Artem Wing\n",
            "There are many solutions to a problem, but don't choose the the option that hurts you the most. -Artem Wing\n",
            "There are many solutions to a problem, but don't choose the the option that hurts you the most. -Artem Wing\n",
            "There are many solutions to a problem, but don't choose the the option that hurts you the most. -Artem Wing\n",
            "There are many solutions to a problem, but don't choose the the option that hurts you the most. -Artem Wing\n",
            "There are many solutions to a problem, but don't choose the the option that hurts you the most. -Artem Wing\n",
            "There are many solutions to a problem, but don't choose the the option that hurts you the most. -Artem Wing\n",
            "There are many solutions to a problem, but don't choose the the option that hurts you the most. -Artem Wing\n",
            "There are many solutions to a problem, but don't choose the the option that hurts you the most. -Artem Wing\n",
            "There are many solutions to a problem, but don't choose the the option that hurts you the most. -Artem Wing\n",
            "There are many solutions to a problem, but don't choose the the option that hurts you the most. -Artem Wing\n",
            "There are many solutions to a problem, but don't choose the the option that hurts you the most. -Artem Wing\n",
            "There are many solutions to a problem, but don't choose the the option that hurts you the most. -Artem Wing\n",
            "There are many solutions to a problem, but don't choose the the option that hurts you the most. -Artem Wing\n",
            "There are many solutions to a problem, but don't choose the the option that hurts you the most. -Artem Wing\n",
            "There are many solutions to a problem, but don't choose the the option that hurts you the most. -Artem Wing\n",
            "There are many solutions to a problem, but don't choose the the option that hurts you the most. -Artem Wing\n",
            "There are many solutions to a problem, but don't choose the the option that hurts you the most. -Artem Wing\n",
            "There are many solutions to a problem, but don't choose the the option that hurts you the most. -Artem Wing\n",
            "There are many solutions to a problem, but don't choose the the option that hurts you the most. -Artem Wing\n",
            "There are many solutions to a problem, but don't choose the the option that hurts you the most. -Artem Wing\n",
            "There are many solutions to a problem, but don't choose the the option that hurts you the most. -Artem Wing\n",
            "There are many solutions to a problem, but don't choose the the option that hurts you the most. -Artem Wing\n",
            "There are many solutions to a problem, but don't choose the the option that hurts you the most. -Artem Wing\n",
            "There are many solutions to a problem, but don't choose the the option that hurts you the most. -Artem Wing\n",
            "There are many solutions to a problem, but don't choose the the option that hurts you the most. -Artem Wing\n",
            "There are many solutions to a problem, but don't choose the the option that hurts you the most. -Artem Wing\n",
            "There are many solutions to a problem, but don't choose the the option that hurts you the most. -Artem Wing\n",
            "There are many solutions to a problem, but don't choose the the option that hurts you the most. -Artem Wing\n",
            "There are many solutions to a problem, but don't choose the the option that hurts you the most. -Artem Wing\n",
            "There are many solutions to a problem, but don't choose the the option that hurts you the most. -Artem Wing\n",
            "There are many solutions to a problem, but don't choose the the option that hurts you the most. -Artem Wing\n",
            "There are many solutions to a problem, but don't choose the the option that hurts you the most. -Artem Wing\n",
            "There are many solutions to a problem, but don't choose the the option that hurts you the most. -Artem Wing\n",
            "There are many solutions to a problem, but don't choose the the option that hurts you the most. -Artem Wing\n",
            "There are many solutions to a problem, but don't choose the the option that hurts you the most. -Artem Wing\n",
            "There are many solutions to a problem, but don't choose the the option that hurts you the most. -Artem Wing\n",
            "There are many solutions to a problem, but don't choose the the option that hurts you the most. -Artem Wing\n",
            "There are many solutions to a problem, but don't choose the the option that hurts you the most. -Artem Wing\n",
            "There are many solutions to a problem, but don't choose the the option that hurts you the most. -Artem Wing\n",
            "There are many solutions to a problem, but don't choose the the option that hurts you the most. -Artem Wing\n",
            "There are many solutions to a problem, but don't choose the the option that hurts you the most. -Artem Wing\n",
            "There are many solutions to a problem, but don't choose the the option that hurts you the most. -Artem Wing\n",
            "There are many solutions to a problem, but don't choose the the option that hurts you the most. -Artem Wing\n",
            "There are many solutions to a problem, but don't choose the the option that hurts you the most. -Artem Wing\n",
            "There are many solutions to a problem, but don't choose the the option that hurts you the most. -Artem Wing\n",
            "There are many solutions to a problem, but don't choose the the option that hurts you the most. -Artem Wing\n",
            "There are many solutions to a problem, but don't choose the the option that hurts you the most. -Artem Wing\n",
            "There are many solutions to a problem, but don't choose the the option that hurts you the most. -Artem Wing\n",
            "There are many solutions to a problem, but don't choose the the option that hurts you the most. -Artem Wing\n",
            "There are many solutions to a problem, but don't choose the the option that hurts you the most. -Artem Wing\n",
            "There are many solutions to a problem, but don't choose the the option that hurts you the most. -Artem Wing\n",
            "There are many solutions to a problem, but don't choose the the option that hurts you the most. -Artem Wing\n",
            "There are many solutions to a problem, but don't choose the the option that hurts you the most. -Artem Wing\n",
            "There are many solutions to a problem, but don't choose the the option that hurts you the most. -Artem Wing\n",
            "There are many solutions to a problem, but don't choose the the option that hurts you the most. -Artem Wing\n",
            "There are many solutions to a problem, but don't choose the the option that hurts you the most. -Artem Wing\n",
            "There are many solutions to a problem, but don't choose the the option that hurts you the most. -Artem Wing\n",
            "There are many solutions to a problem, but don't choose the the option that hurts you the most. -Artem Wing\n",
            "There are many solutions to a problem, but don't choose the the option that hurts you the most. -Artem Wing\n",
            "There are many solutions to a problem, but don't choose the the option that hurts you the most. -Artem Wing\n",
            "There are many solutions to a problem, but don't choose the the option that hurts you the most. -Artem Wing\n",
            "There are many solutions to a problem, but don't choose the the option that hurts you the most. -Artem Wing\n",
            "There are many solutions to a problem, but don't choose the the option that hurts you the most. -Artem Wing\n",
            "There are many solutions to a problem, but don't choose the the option that hurts you the most. -Artem Wing\n",
            "There are many solutions to a problem, but don't choose the the option that hurts you the most. -Artem Wing\n",
            "There are many solutions to a problem, but don't choose the the option that hurts you the most. -Artem Wing\n",
            "There are many solutions to a problem, but don't choose the the option that hurts you the most. -Artem Wing\n",
            "There are many solutions to a problem, but don't choose the the option that hurts you the most. -Artem Wing\n",
            "There are many solutions to a problem, but don't choose the the option that hurts you the most. -Artem Wing\n",
            "There are many solutions to a problem, but don't choose the the option that hurts you the most. -Artem Wing\n",
            "There are many solutions to a problem, but don't choose the the option that hurts you the most. -Artem Wing\n",
            "There are many solutions to a problem, but don't choose the the option that hurts you the most. -Artem Wing\n",
            "There are many solutions to a problem, but don't choose the the option that hurts you the most. -Artem Wing\n",
            "There are many solutions to a problem, but don't choose the the option that hurts you the most. -Artem Wing\n",
            "There are many solutions to a problem, but don't choose the the option that hurts you the most. -Artem Wing\n",
            "There are many solutions to a problem, but don't choose the the option that hurts you the most. -Artem Wing\n",
            "There are many solutions to a problem, but don't choose the the option that hurts you the most. -Artem Wing\n",
            "There are many solutions to a problem, but don't choose the the option that hurts you the most. -Artem Wing\n",
            "There are many solutions to a problem, but don't choose the the option that hurts you the most. -Artem Wing\n",
            "There are many solutions to a problem, but don't choose the the option that hurts you the most. -Artem Wing\n",
            "There are many solutions to a problem, but don't choose the the option that hurts you the most. -Artem Wing\n",
            "There are many solutions to a problem, but don't choose the the option that hurts you the most. -Artem Wing\n",
            "There are many solutions to a problem, but don't choose the the option that hurts you the most. -Artem Wing\n",
            "There are many solutions to a problem, but don't choose the the option that hurts you the most. -Artem Wing\n",
            "There are many solutions to a problem, but don't choose the the option that hurts you the most. -Artem Wing\n",
            "There are many solutions to a problem, but don't choose the the option that hurts you the most. -Artem Wing\n",
            "There are many solutions to a problem, but don't choose the the option that hurts you the most. -Artem Wing\n",
            "There are many solutions to a problem, but don't choose the the option that hurts you the most. -Artem Wing\n",
            "There are many solutions to a problem, but don't choose the the option that hurts you the most. -Artem Wing\n",
            "There are many solutions to a problem, but don't choose the the option that hurts you the most. -Artem Wing\n",
            "There are many solutions to a problem, but don't choose the the option that hurts you the most. -Artem Wing\n",
            "There are many solutions to a problem, but don't choose the the option that hurts you the most. -Artem Wing\n",
            "There are many solutions to a problem, but don't choose the the option that hurts you the most. -Artem Wing\n",
            "There are many solutions to a problem, but don't choose the the option that hurts you the most. -Artem Wing\n",
            "There are many solutions to a problem, but don't choose the the option that hurts you the most. -Artem Wing\n",
            "There are many solutions to a problem, but don't choose the the option that hurts you the most. -Artem Wing\n",
            "There are many solutions to a problem, but don't choose the the option that hurts you the most. -Artem Wing\n",
            "There are many solutions to a problem, but don't choose the the option that hurts you the most. -Artem Wing\n",
            "There are many solutions to a problem, but don't choose the the option that hurts you the most. -Artem Wing\n",
            "There are many solutions to a problem, but don't choose the the option that hurts you the most. -Artem Wing\n",
            "There are many solutions to a problem, but don't choose the the option that hurts you the most. -Artem Wing\n",
            "There are many solutions to a problem, but don't choose the the option that hurts you the most. -Artem Wing\n",
            "There are many solutions to a problem, but don't choose the the option that hurts you the most. -Artem Wing\n",
            "There are many solutions to a problem, but don't choose the the option that hurts you the most. -Artem Wing\n",
            "There are many solutions to a problem, but don't choose the the option that hurts you the most. -Artem Wing\n",
            "There are many solutions to a problem, but don't choose the the option that hurts you the most. -Artem Wing\n",
            "There are many solutions to a problem, but don't choose the the option that hurts you the most. -Artem Wing\n",
            "There are many solutions to a problem, but don't choose the the option that hurts you the most. -Artem Wing\n",
            "There are many solutions to a problem, but don't choose the the option that hurts you the most. -Artem Wing\n",
            "There are many solutions to a problem, but don't choose the the option that hurts you the most. -Artem Wing\n",
            "There are many solutions to a problem, but don't choose the the option that hurts you the most. -Artem Wing\n",
            "There are many solutions to a problem, but don't choose the the option that hurts you the most. -Artem Wing\n",
            "There are many solutions to a problem, but don't choose the the option that hurts you the most. -Artem Wing\n",
            "There are many solutions to a problem, but don't choose the the option that hurts you the most. -Artem Wing\n",
            "There are many solutions to a problem, but don't choose the the option that hurts you the most. -Artem Wing\n",
            "There are many solutions to a problem, but don't choose the the option that hurts you the most. -Artem Wing\n",
            "There are many solutions to a problem, but don't choose the the option that hurts you the most. -Artem Wing\n",
            "There are many solutions to a problem, but don't choose the the option that hurts you the most. -Artem Wing\n",
            "There are many solutions to a problem, but don't choose the the option that hurts you the most. -Artem Wing\n",
            "There are many solutions to a problem, but don't choose the the option that hurts you the most. -Artem Wing\n",
            "There are many solutions to a problem, but don't choose the the option that hurts you the most. -Artem Wing\n",
            "There are many solutions to a problem, but don't choose the the option that hurts you the most. -Artem Wing\n",
            "There are many solutions to a problem, but don't choose the the option that hurts you the most. -Artem Wing\n",
            "There are many solutions to a problem, but don't choose the the option that hurts you the most. -Artem Wing\n",
            "There are many solutions to a problem, but don't choose the the option that hurts you the most. -Artem Wing\n",
            "There are many solutions to a problem, but don't choose the the option that hurts you the most. -Artem Wing\n",
            "There are many solutions to a problem, but don't choose the the option that hurts you the most. -Artem Wing\n",
            "There are many solutions to a problem, but don't choose the the option that hurts you the most. -Artem Wing\n",
            "There are many solutions to a problem, but don't choose the the option that hurts you the most. -Artem Wing\n",
            "There are many solutions to a problem, but don't choose the the option that hurts you the most. -Artem Wing\n",
            "There are many solutions to a problem, but don't choose the the option that hurts you the most. -Artem Wing\n",
            "There are many solutions to a problem, but don't choose the the option that hurts you the most. -Artem Wing\n",
            "There are many solutions to a problem, but don't choose the the option that hurts you the most. -Artem Wing\n",
            "There are many solutions to a problem, but don't choose the the option that hurts you the most. -Artem Wing\n",
            "There are many solutions to a problem, but don't choose the the option that hurts you the most. -Artem Wing\n",
            "There are many solutions to a problem, but don't choose the the option that hurts you the most. -Artem Wing\n",
            "There are many solutions to a problem, but don't choose the the option that hurts you the most. -Artem Wing\n",
            "There are many solutions to a problem, but don't choose the the option that hurts you the most. -Artem Wing\n",
            "There are many solutions to a problem, but don't choose the the option that hurts you the most. -Artem Wing\n",
            "There are many solutions to a problem, but don't choose the the option that hurts you the most. -Artem Wing\n",
            "There are many solutions to a problem, but don't choose the the option that hurts you the most. -Artem Wing\n",
            "There are many solutions to a problem, but don't choose the the option that hurts you the most. -Artem Wing\n",
            "There are many solutions to a problem, but don't choose the the option that hurts you the most. -Artem Wing\n",
            "There are many solutions to a problem, but don't choose the the option that hurts you the most. -Artem Wing\n",
            "There are many solutions to a problem, but don't choose the the option that hurts you the most. -Artem Wing\n",
            "There are many solutions to a problem, but don't choose the the option that hurts you the most. -Artem Wing\n",
            "There are many solutions to a problem, but don't choose the the option that hurts you the most. -Artem Wing\n",
            "There are many solutions to a problem, but don't choose the the option that hurts you the most. -Artem Wing\n",
            "There are many solutions to a problem, but don't choose the the option that hurts you the most. -Artem Wing\n",
            "There are many solutions to a problem, but don't choose the the option that hurts you the most. -Artem Wing\n",
            "There are many solutions to a problem, but don't choose the the option that hurts you the most. -Artem Wing\n",
            "There are many solutions to a problem, but don't choose the the option that hurts you the most. -Artem Wing\n",
            "There are many solutions to a problem, but don't choose the the option that hurts you the most. -Artem Wing\n",
            "There are many solutions to a problem, but don't choose the the option that hurts you the most. -Artem Wing\n",
            "There are many solutions to a problem, but don't choose the the option that hurts you the most. -Artem Wing\n",
            "There are many solutions to a problem, but don't choose the the option that hurts you the most. -Artem Wing\n",
            "There are many solutions to a problem, but don't choose the the option that hurts you the most. -Artem Wing\n",
            "There are many solutions to a problem, but don't choose the the option that hurts you the most. -Artem Wing\n",
            "There are many solutions to a problem, but don't choose the the option that hurts you the most. -Artem Wing\n",
            "There are many solutions to a problem, but don't choose the the option that hurts you the most. -Artem Wing\n",
            "There are many solutions to a problem, but don't choose the the option that hurts you the most. -Artem Wing\n",
            "There are many solutions to a problem, but don't choose the the option that hurts you the most. -Artem Wing\n",
            "There are many solutions to a problem, but don't choose the the option that hurts you the most. -Artem Wing\n",
            "There are many solutions to a problem, but don't choose the the option that hurts you the most. -Artem Wing\n",
            "There are many solutions to a problem, but don't choose the the option that hurts you the most. -Artem Wing\n",
            "There are many solutions to a problem, but don't choose the the option that hurts you the most. -Artem Wing\n",
            "There are many solutions to a problem, but don't choose the the option that hurts you the most. -Artem Wing\n",
            "There are many solutions to a problem, but don't choose the the option that hurts you the most. -Artem Wing\n",
            "There are many solutions to a problem, but don't choose the the option that hurts you the most. -Artem Wing\n",
            "There are many solutions to a problem, but don't choose the the option that hurts you the most. -Artem Wing\n",
            "There are many solutions to a problem, but don't choose the the option that hurts you the most. -Artem Wing\n",
            "There are many solutions to a problem, but don't choose the the option that hurts you the most. -Artem Wing\n",
            "There are many solutions to a problem, but don't choose the the option that hurts you the most. -Artem Wing\n",
            "There are many solutions to a problem, but don't choose the the option that hurts you the most. -Artem Wing\n",
            "There are many solutions to a problem, but don't choose the the option that hurts you the most. -Artem Wing\n",
            "There are many solutions to a problem, but don't choose the the option that hurts you the most. -Artem Wing\n",
            "There are many solutions to a problem, but don't choose the the option that hurts you the most. -Artem Wing\n",
            "There are many solutions to a problem, but don't choose the the option that hurts you the most. -Artem Wing\n",
            "There are many solutions to a problem, but don't choose the the option that hurts you the most. -Artem Wing\n",
            "There are many solutions to a problem, but don't choose the the option that hurts you the most. -Artem Wing\n",
            "There are many solutions to a problem, but don't choose the the option that hurts you the most. -Artem Wing\n",
            "There are many solutions to a problem, but don't choose the the option that hurts you the most. -Artem Wing\n",
            "There are many solutions to a problem, but don't choose the the option that hurts you the most. -Artem Wing\n",
            "There are many solutions to a problem, but don't choose the the option that hurts you the most. -Artem Wing\n",
            "There are many solutions to a problem, but don't choose the the option that hurts you the most. -Artem Wing\n",
            "There are many solutions to a problem, but don't choose the the option that hurts you the most. -Artem Wing\n",
            "There are many solutions to a problem, but don't choose the the option that hurts you the most. -Artem Wing\n",
            "There are many solutions to a problem, but don't choose the the option that hurts you the most. -Artem Wing\n",
            "There are many solutions to a problem, but don't choose the the option that hurts you the most. -Artem Wing\n",
            "There are many solutions to a problem, but don't choose the the option that hurts you the most. -Artem Wing\n",
            "There are many solutions to a problem, but don't choose the the option that hurts you the most. -Artem Wing\n",
            "There are many solutions to a problem, but don't choose the the option that hurts you the most. -Artem Wing\n",
            "There are many solutions to a problem, but don't choose the the option that hurts you the most. -Artem Wing\n",
            "There are many solutions to a problem, but don't choose the the option that hurts you the most. -Artem Wing\n",
            "There are many solutions to a problem, but don't choose the the option that hurts you the most. -Artem Wing\n",
            "There are many solutions to a problem, but don't choose the the option that hurts you the most. -Artem Wing\n",
            "There are many solutions to a problem, but don't choose the the option that hurts you the most. -Artem Wing\n",
            "There are many solutions to a problem, but don't choose the the option that hurts you the most. -Artem Wing\n",
            "There are many solutions to a problem, but don't choose the the option that hurts you the most. -Artem Wing\n",
            "There are many solutions to a problem, but don't choose the the option that hurts you the most. -Artem Wing\n",
            "There are many solutions to a problem, but don't choose the the option that hurts you the most. -Artem Wing\n",
            "There are many solutions to a problem, but don't choose the the option that hurts you the most. -Artem Wing\n",
            "There are many solutions to a problem, but don't choose the the option that hurts you the most. -Artem Wing\n",
            "There are many solutions to a problem, but don't choose the the option that hurts you the most. -Artem Wing\n",
            "There are many solutions to a problem, but don't choose the the option that hurts you the most. -Artem Wing\n",
            "There are many solutions to a problem, but don't choose the the option that hurts you the most. -Artem Wing\n",
            "There are many solutions to a problem, but don't choose the the option that hurts you the most. -Artem Wing\n",
            "There are many solutions to a problem, but don't choose the the option that hurts you the most. -Artem Wing\n",
            "There are many solutions to a problem, but don't choose the the option that hurts you the most. -Artem Wing\n",
            "There are many solutions to a problem, but don't choose the the option that hurts you the most. -Artem Wing\n",
            "There are many solutions to a problem, but don't choose the the option that hurts you the most. -Artem Wing\n",
            "There are many solutions to a problem, but don't choose the the option that hurts you the most. -Artem Wing\n",
            "There are many solutions to a problem, but don't choose the the option that hurts you the most. -Artem Wing\n",
            "There are many solutions to a problem, but don't choose the the option that hurts you the most. -Artem Wing\n",
            "There are many solutions to a problem, but don't choose the the option that hurts you the most. -Artem Wing\n",
            "There are many solutions to a problem, but don't choose the the option that hurts you the most. -Artem Wing\n",
            "There are many solutions to a problem, but don't choose the the option that hurts you the most. -Artem Wing\n",
            "There are many solutions to a problem, but don't choose the the option that hurts you the most. -Artem Wing\n",
            "There are many solutions to a problem, but don't choose the the option that hurts you the most. -Artem Wing\n",
            "There are many solutions to a problem, but don't choose the the option that hurts you the most. -Artem Wing\n",
            "There are many solutions to a problem, but don't choose the the option that hurts you the most. -Artem Wing\n",
            "There are many solutions to a problem, but don't choose the the option that hurts you the most. -Artem Wing\n",
            "There are many solutions to a problem, but don't choose the the option that hurts you the most. -Artem Wing\n",
            "There are many solutions to a problem, but don't choose the the option that hurts you the most. -Artem Wing\n",
            "There are many solutions to a problem, but don't choose the the option that hurts you the most. -Artem Wing\n",
            "There are many solutions to a problem, but don't choose the the option that hurts you the most. -Artem Wing\n",
            "There are many solutions to a problem, but don't choose the the option that hurts you the most. -Artem Wing\n",
            "There are many solutions to a problem, but don't choose the the option that hurts you the most. -Artem Wing\n",
            "There are many solutions to a problem, but don't choose the the option that hurts you the most. -Artem Wing\n",
            "There are many solutions to a problem, but don't choose the the option that hurts you the most. -Artem Wing\n",
            "There are many solutions to a problem, but don't choose the the option that hurts you the most. -Artem Wing\n",
            "There are many solutions to a problem, but don't choose the the option that hurts you the most. -Artem Wing\n",
            "There are many solutions to a problem, but don't choose the the option that hurts you the most. -Artem Wing\n",
            "There are many solutions to a problem, but don't choose the the option that hurts you the most. -Artem Wing\n",
            "There are many solutions to a problem, but don't choose the the option that hurts you the most. -Artem Wing\n",
            "There are many solutions to a problem, but don't choose the the option that hurts you the most. -Artem Wing\n",
            "There are many solutions to a problem, but don't choose the the option that hurts you the most. -Artem Wing\n",
            "There are many solutions to a problem, but don't choose the the option that hurts you the most. -Artem Wing\n",
            "There are many solutions to a problem, but don't choose the the option that hurts you the most. -Artem Wing\n",
            "There are many solutions to a problem, but don't choose the the option that hurts you the most. -Artem Wing\n",
            "There are many solutions to a problem, but don't choose the the option that hurts you the most. -Artem Wing\n",
            "There are many solutions to a problem, but don't choose the the option that hurts you the most. -Artem Wing\n",
            "There are many solutions to a problem, but don't choose the the option that hurts you the most. -Artem Wing\n",
            "There are many solutions to a problem, but don't choose the the option that hurts you the most. -Artem Wing\n",
            "There are many solutions to a problem, but don't choose the the option that hurts you the most. -Artem Wing\n",
            "There are many solutions to a problem, but don't choose the the option that hurts you the most. -Artem Wing\n",
            "There are many solutions to a problem, but don't choose the the option that hurts you the most. -Artem Wing\n",
            "There are many solutions to a problem, but don't choose the the option that hurts you the most. -Artem Wing\n",
            "There are many solutions to a problem, but don't choose the the option that hurts you the most. -Artem Wing\n",
            "There are many solutions to a problem, but don't choose the the option that hurts you the most. -Artem Wing\n",
            "There are many solutions to a problem, but don't choose the the option that hurts you the most. -Artem Wing\n",
            "There are many solutions to a problem, but don't choose the the option that hurts you the most. -Artem Wing\n",
            "There are many solutions to a problem, but don't choose the the option that hurts you the most. -Artem Wing\n",
            "There are many solutions to a problem, but don't choose the the option that hurts you the most. -Artem Wing\n",
            "There are many solutions to a problem, but don't choose the the option that hurts you the most. -Artem Wing\n",
            "There are many solutions to a problem, but don't choose the the option that hurts you the most. -Artem Wing\n",
            "There are many solutions to a problem, but don't choose the the option that hurts you the most. -Artem Wing\n",
            "There are many solutions to a problem, but don't choose the the option that hurts you the most. -Artem Wing\n",
            "There are many solutions to a problem, but don't choose the the option that hurts you the most. -Artem Wing\n",
            "There are many solutions to a problem, but don't choose the the option that hurts you the most. -Artem Wing\n",
            "There are many solutions to a problem, but don't choose the the option that hurts you the most. -Artem Wing\n",
            "There are many solutions to a problem, but don't choose the the option that hurts you the most. -Artem Wing\n",
            "There are many solutions to a problem, but don't choose the the option that hurts you the most. -Artem Wing\n",
            "There are many solutions to a problem, but don't choose the the option that hurts you the most. -Artem Wing\n",
            "There are many solutions to a problem, but don't choose the the option that hurts you the most. -Artem Wing\n",
            "There are many solutions to a problem, but don't choose the the option that hurts you the most. -Artem Wing\n",
            "There are many solutions to a problem, but don't choose the the option that hurts you the most. -Artem Wing\n",
            "There are many solutions to a problem, but don't choose the the option that hurts you the most. -Artem Wing\n",
            "There are many solutions to a problem, but don't choose the the option that hurts you the most. -Artem Wing\n",
            "There are many solutions to a problem, but don't choose the the option that hurts you the most. -Artem Wing\n",
            "There are many solutions to a problem, but don't choose the the option that hurts you the most. -Artem Wing\n",
            "There are many solutions to a problem, but don't choose the the option that hurts you the most. -Artem Wing\n",
            "There are many solutions to a problem, but don't choose the the option that hurts you the most. -Artem Wing\n",
            "There are many solutions to a problem, but don't choose the the option that hurts you the most. -Artem Wing\n",
            "There are many solutions to a problem, but don't choose the the option that hurts you the most. -Artem Wing\n",
            "There are many solutions to a problem, but don't choose the the option that hurts you the most. -Artem Wing\n",
            "There are many solutions to a problem, but don't choose the the option that hurts you the most. -Artem Wing\n",
            "There are many solutions to a problem, but don't choose the the option that hurts you the most. -Artem Wing\n",
            "There are many solutions to a problem, but don't choose the the option that hurts you the most. -Artem Wing\n",
            "There are many solutions to a problem, but don't choose the the option that hurts you the most. -Artem Wing\n",
            "There are many solutions to a problem, but don't choose the the option that hurts you the most. -Artem Wing\n",
            "There are many solutions to a problem, but don't choose the the option that hurts you the most. -Artem Wing\n",
            "There are many solutions to a problem, but don't choose the the option that hurts you the most. -Artem Wing\n",
            "There are many solutions to a problem, but don't choose the the option that hurts you the most. -Artem Wing\n",
            "There are many solutions to a problem, but don't choose the the option that hurts you the most. -Artem Wing\n",
            "There are many solutions to a problem, but don't choose the the option that hurts you the most. -Artem Wing\n",
            "There are many solutions to a problem, but don't choose the the option that hurts you the most. -Artem Wing\n",
            "There are many solutions to a problem, but don't choose the the option that hurts you the most. -Artem Wing\n",
            "There are many solutions to a problem, but don't choose the the option that hurts you the most. -Artem Wing\n",
            "There are many solutions to a problem, but don't choose the the option that hurts you the most. -Artem Wing\n",
            "There are many solutions to a problem, but don't choose the the option that hurts you the most. -Artem Wing\n",
            "There are many solutions to a problem, but don't choose the the option that hurts you the most. -Artem Wing\n",
            "There are many solutions to a problem, but don't choose the the option that hurts you the most. -Artem Wing\n",
            "There are many solutions to a problem, but don't choose the the option that hurts you the most. -Artem Wing\n",
            "There are many solutions to a problem, but don't choose the the option that hurts you the most. -Artem Wing\n",
            "There are many solutions to a problem, but don't choose the the option that hurts you the most. -Artem Wing\n",
            "There are many solutions to a problem, but don't choose the the option that hurts you the most. -Artem Wing\n",
            "There are many solutions to a problem, but don't choose the the option that hurts you the most. -Artem Wing\n",
            "There are many solutions to a problem, but don't choose the the option that hurts you the most. -Artem Wing\n",
            "There are many solutions to a problem, but don't choose the the option that hurts you the most. -Artem Wing\n",
            "There are many solutions to a problem, but don't choose the the option that hurts you the most. -Artem Wing\n",
            "There are many solutions to a problem, but don't choose the the option that hurts you the most. -Artem Wing\n",
            "There are many solutions to a problem, but don't choose the the option that hurts you the most. -Artem Wing\n",
            "There are many solutions to a problem, but don't choose the the option that hurts you the most. -Artem Wing\n",
            "There are many solutions to a problem, but don't choose the the option that hurts you the most. -Artem Wing\n",
            "There are many solutions to a problem, but don't choose the the option that hurts you the most. -Artem Wing\n",
            "There are many solutions to a problem, but don't choose the the option that hurts you the most. -Artem Wing\n",
            "There are many solutions to a problem, but don't choose the the option that hurts you the most. -Artem Wing\n",
            "There are many solutions to a problem, but don't choose the the option that hurts you the most. -Artem Wing\n",
            "There are many solutions to a problem, but don't choose the the option that hurts you the most. -Artem Wing\n",
            "There are many solutions to a problem, but don't choose the the option that hurts you the most. -Artem Wing\n",
            "There are many solutions to a problem, but don't choose the the option that hurts you the most. -Artem Wing\n",
            "There are many solutions to a problem, but don't choose the the option that hurts you the most. -Artem Wing\n",
            "There are many solutions to a problem, but don't choose the the option that hurts you the most. -Artem Wing\n",
            "There are many solutions to a problem, but don't choose the the option that hurts you the most. -Artem Wing\n",
            "There are many solutions to a problem, but don't choose the the option that hurts you the most. -Artem Wing\n",
            "There are many solutions to a problem, but don't choose the the option that hurts you the most. -Artem Wing\n",
            "There are many solutions to a problem, but don't choose the the option that hurts you the most. -Artem Wing\n",
            "There are many solutions to a problem, but don't choose the the option that hurts you the most. -Artem Wing\n",
            "There are many solutions to a problem, but don't choose the the option that hurts you the most. -Artem Wing\n",
            "There are many solutions to a problem, but don't choose the the option that hurts you the most. -Artem Wing\n",
            "There are many solutions to a problem, but don't choose the the option that hurts you the most. -Artem Wing\n",
            "There are many solutions to a problem, but don't choose the the option that hurts you the most. -Artem Wing\n",
            "There are many solutions to a problem, but don't choose the the option that hurts you the most. -Artem Wing\n",
            "There are many solutions to a problem, but don't choose the the option that hurts you the most. -Artem Wing\n",
            "There are many solutions to a problem, but don't choose the the option that hurts you the most. -Artem Wing\n",
            "There are many solutions to a problem, but don't choose the the option that hurts you the most. -Artem Wing\n",
            "There are many solutions to a problem, but don't choose the the option that hurts you the most. -Artem Wing\n",
            "There are many solutions to a problem, but don't choose the the option that hurts you the most. -Artem Wing\n",
            "There are many solutions to a problem, but don't choose the the option that hurts you the most. -Artem Wing\n",
            "There are many solutions to a problem, but don't choose the the option that hurts you the most. -Artem Wing\n",
            "There are many solutions to a problem, but don't choose the the option that hurts you the most. -Artem Wing\n",
            "There are many solutions to a problem, but don't choose the the option that hurts you the most. -Artem Wing\n",
            "There are many solutions to a problem, but don't choose the the option that hurts you the most. -Artem Wing\n",
            "There are many solutions to a problem, but don't choose the the option that hurts you the most. -Artem Wing\n",
            "There are many solutions to a problem, but don't choose the the option that hurts you the most. -Artem Wing\n",
            "There are many solutions to a problem, but don't choose the the option that hurts you the most. -Artem Wing\n",
            "There are many solutions to a problem, but don't choose the the option that hurts you the most. -Artem Wing\n",
            "There are many solutions to a problem, but don't choose the the option that hurts you the most. -Artem Wing\n",
            "There are many solutions to a problem, but don't choose the the option that hurts you the most. -Artem Wing\n",
            "There are many solutions to a problem, but don't choose the the option that hurts you the most. -Artem Wing\n",
            "There are many solutions to a problem, but don't choose the the option that hurts you the most. -Artem Wing\n",
            "There are many solutions to a problem, but don't choose the the option that hurts you the most. -Artem Wing\n",
            "There are many solutions to a problem, but don't choose the the option that hurts you the most. -Artem Wing\n",
            "There are many solutions to a problem, but don't choose the the option that hurts you the most. -Artem Wing\n",
            "There are many solutions to a problem, but don't choose the the option that hurts you the most. -Artem Wing\n",
            "There are many solutions to a problem, but don't choose the the option that hurts you the most. -Artem Wing\n",
            "There are many solutions to a problem, but don't choose the the option that hurts you the most. -Artem Wing\n",
            "There are many solutions to a problem, but don't choose the the option that hurts you the most. -Artem Wing\n",
            "There are many solutions to a problem, but don't choose the the option that hurts you the most. -Artem Wing\n",
            "There are many solutions to a problem, but don't choose the the option that hurts you the most. -Artem Wing\n",
            "There are many solutions to a problem, but don't choose the the option that hurts you the most. -Artem Wing\n",
            "There are many solutions to a problem, but don't choose the the option that hurts you the most. -Artem Wing\n",
            "There are many solutions to a problem, but don't choose the the option that hurts you the most. -Artem Wing\n",
            "There are many solutions to a problem, but don't choose the the option that hurts you the most. -Artem Wing\n",
            "There are many solutions to a problem, but don't choose the the option that hurts you the most. -Artem Wing\n",
            "There are many solutions to a problem, but don't choose the the option that hurts you the most. -Artem Wing\n",
            "There are many solutions to a problem, but don't choose the the option that hurts you the most. -Artem Wing\n",
            "There are many solutions to a problem, but don't choose the the option that hurts you the most. -Artem Wing\n",
            "There are many solutions to a problem, but don't choose the the option that hurts you the most. -Artem Wing\n",
            "There are many solutions to a problem, but don't choose the the option that hurts you the most. -Artem Wing\n",
            "There are many solutions to a problem, but don't choose the the option that hurts you the most. -Artem Wing\n",
            "There are many solutions to a problem, but don't choose the the option that hurts you the most. -Artem Wing\n",
            "There are many solutions to a problem, but don't choose the the option that hurts you the most. -Artem Wing\n",
            "There are many solutions to a problem, but don't choose the the option that hurts you the most. -Artem Wing\n",
            "There are many solutions to a problem, but don't choose the the option that hurts you the most. -Artem Wing\n",
            "There are many solutions to a problem, but don't choose the the option that hurts you the most. -Artem Wing\n",
            "There are many solutions to a problem, but don't choose the the option that hurts you the most. -Artem Wing\n",
            "There are many solutions to a problem, but don't choose the the option that hurts you the most. -Artem Wing\n",
            "There are many solutions to a problem, but don't choose the the option that hurts you the most. -Artem Wing\n",
            "There are many solutions to a problem, but don't choose the the option that hurts you the most. -Artem Wing\n",
            "There are many solutions to a problem, but don't choose the the option that hurts you the most. -Artem Wing\n",
            "There are many solutions to a problem, but don't choose the the option that hurts you the most. -Artem Wing\n",
            "There are many solutions to a problem, but don't choose the the option that hurts you the most. -Artem Wing\n",
            "There are many solutions to a problem, but don't choose the the option that hurts you the most. -Artem Wing\n",
            "There are many solutions to a problem, but don't choose the the option that hurts you the most. -Artem Wing\n",
            "There are many solutions to a problem, but don't choose the the option that hurts you the most. -Artem Wing\n",
            "There are many solutions to a problem, but don't choose the the option that hurts you the most. -Artem Wing\n",
            "There are many solutions to a problem, but don't choose the the option that hurts you the most. -Artem Wing\n",
            "There are many solutions to a problem, but don't choose the the option that hurts you the most. -Artem Wing\n",
            "There are many solutions to a problem, but don't choose the the option that hurts you the most. -Artem Wing\n",
            "There are many solutions to a problem, but don't choose the the option that hurts you the most. -Artem Wing\n",
            "There are many solutions to a problem, but don't choose the the option that hurts you the most. -Artem Wing\n",
            "There are many solutions to a problem, but don't choose the the option that hurts you the most. -Artem Wing\n",
            "There are many solutions to a problem, but don't choose the the option that hurts you the most. -Artem Wing\n",
            "There are many solutions to a problem, but don't choose the the option that hurts you the most. -Artem Wing\n",
            "There are many solutions to a problem, but don't choose the the option that hurts you the most. -Artem Wing\n",
            "There are many solutions to a problem, but don't choose the the option that hurts you the most. -Artem Wing\n",
            "There are many solutions to a problem, but don't choose the the option that hurts you the most. -Artem Wing\n",
            "There are many solutions to a problem, but don't choose the the option that hurts you the most. -Artem Wing\n",
            "There are many solutions to a problem, but don't choose the the option that hurts you the most. -Artem Wing\n",
            "There are many solutions to a problem, but don't choose the the option that hurts you the most. -Artem Wing\n",
            "There are many solutions to a problem, but don't choose the the option that hurts you the most. -Artem Wing\n",
            "There are many solutions to a problem, but don't choose the the option that hurts you the most. -Artem Wing\n",
            "There are many solutions to a problem, but don't choose the the option that hurts you the most. -Artem Wing\n",
            "There are many solutions to a problem, but don't choose the the option that hurts you the most. -Artem Wing\n",
            "There are many solutions to a problem, but don't choose the the option that hurts you the most. -Artem Wing\n",
            "There are many solutions to a problem, but don't choose the the option that hurts you the most. -Artem Wing\n",
            "There are many solutions to a problem, but don't choose the the option that hurts you the most. -Artem Wing\n",
            "There are many solutions to a problem, but don't choose the the option that hurts you the most. -Artem Wing\n",
            "There are many solutions to a problem, but don't choose the the option that hurts you the most. -Artem Wing\n",
            "There are many solutions to a problem, but don't choose the the option that hurts you the most. -Artem Wing\n",
            "There are many solutions to a problem, but don't choose the the option that hurts you the most. -Artem Wing\n",
            "There are many solutions to a problem, but don't choose the the option that hurts you the most. -Artem Wing\n",
            "There are many solutions to a problem, but don't choose the the option that hurts you the most. -Artem Wing\n",
            "There are many solutions to a problem, but don't choose the the option that hurts you the most. -Artem Wing\n",
            "There are many solutions to a problem, but don't choose the the option that hurts you the most. -Artem Wing\n",
            "There are many solutions to a problem, but don't choose the the option that hurts you the most. -Artem Wing\n",
            "There are many solutions to a problem, but don't choose the the option that hurts you the most. -Artem Wing\n",
            "There are many solutions to a problem, but don't choose the the option that hurts you the most. -Artem Wing\n",
            "There are many solutions to a problem, but don't choose the the option that hurts you the most. -Artem Wing\n",
            "There are many solutions to a problem, but don't choose the the option that hurts you the most. -Artem Wing\n",
            "There are many solutions to a problem, but don't choose the the option that hurts you the most. -Artem Wing\n",
            "There are many solutions to a problem, but don't choose the the option that hurts you the most. -Artem Wing\n",
            "There are many solutions to a problem, but don't choose the the option that hurts you the most. -Artem Wing\n",
            "There are many solutions to a problem, but don't choose the the option that hurts you the most. -Artem Wing\n",
            "There are many solutions to a problem, but don't choose the the option that hurts you the most. -Artem Wing\n",
            "There are many solutions to a problem, but don't choose the the option that hurts you the most. -Artem Wing\n",
            "There are many solutions to a problem, but don't choose the the option that hurts you the most. -Artem Wing\n",
            "There are many solutions to a problem, but don't choose the the option that hurts you the most. -Artem Wing\n",
            "There are many solutions to a problem, but don't choose the the option that hurts you the most. -Artem Wing\n",
            "There are many solutions to a problem, but don't choose the the option that hurts you the most. -Artem Wing\n",
            "There are many solutions to a problem, but don't choose the the option that hurts you the most. -Artem Wing\n",
            "There are many solutions to a problem, but don't choose the the option that hurts you the most. -Artem Wing\n",
            "There are many solutions to a problem, but don't choose the the option that hurts you the most. -Artem Wing\n",
            "There are many solutions to a problem, but don't choose the the option that hurts you the most. -Artem Wing\n",
            "There are many solutions to a problem, but don't choose the the option that hurts you the most. -Artem Wing\n",
            "There are many solutions to a problem, but don't choose the the option that hurts you the most. -Artem Wing\n",
            "There are many solutions to a problem, but don't choose the the option that hurts you the most. -Artem Wing\n",
            "There are many solutions to a problem, but don't choose the the option that hurts you the most. -Artem Wing\n",
            "There are many solutions to a problem, but don't choose the the option that hurts you the most. -Artem Wing\n",
            "There are many solutions to a problem, but don't choose the the option that hurts you the most. -Artem Wing\n",
            "There are many solutions to a problem, but don't choose the the option that hurts you the most. -Artem Wing\n",
            "There are many solutions to a problem, but don't choose the the option that hurts you the most. -Artem Wing\n",
            "There are many solutions to a problem, but don't choose the the option that hurts you the most. -Artem Wing\n",
            "There are many solutions to a problem, but don't choose the the option that hurts you the most. -Artem Wing\n",
            "There are many solutions to a problem, but don't choose the the option that hurts you the most. -Artem Wing\n",
            "There are many solutions to a problem, but don't choose the the option that hurts you the most. -Artem Wing\n",
            "There are many solutions to a problem, but don't choose the the option that hurts you the most. -Artem Wing\n",
            "There are many solutions to a problem, but don't choose the the option that hurts you the most. -Artem Wing\n",
            "There are many solutions to a problem, but don't choose the the option that hurts you the most. -Artem Wing\n",
            "There are many solutions to a problem, but don't choose the the option that hurts you the most. -Artem Wing\n",
            "There are many solutions to a problem, but don't choose the the option that hurts you the most. -Artem Wing\n",
            "There are many solutions to a problem, but don't choose the the option that hurts you the most. -Artem Wing\n",
            "There are many solutions to a problem, but don't choose the the option that hurts you the most. -Artem Wing\n",
            "There are many solutions to a problem, but don't choose the the option that hurts you the most. -Artem Wing\n",
            "There are many solutions to a problem, but don't choose the the option that hurts you the most. -Artem Wing\n",
            "There are many solutions to a problem, but don't choose the the option that hurts you the most. -Artem Wing\n",
            "There are many solutions to a problem, but don't choose the the option that hurts you the most. -Artem Wing\n",
            "There are many solutions to a problem, but don't choose the the option that hurts you the most. -Artem Wing\n",
            "There are many solutions to a problem, but don't choose the the option that hurts you the most. -Artem Wing\n",
            "There are many solutions to a problem, but don't choose the the option that hurts you the most. -Artem Wing\n",
            "There are many solutions to a problem, but don't choose the the option that hurts you the most. -Artem Wing\n",
            "There are many solutions to a problem, but don't choose the the option that hurts you the most. -Artem Wing\n",
            "There are many solutions to a problem, but don't choose the the option that hurts you the most. -Artem Wing\n",
            "There are many solutions to a problem, but don't choose the the option that hurts you the most. -Artem Wing\n",
            "There are many solutions to a problem, but don't choose the the option that hurts you the most. -Artem Wing\n",
            "There are many solutions to a problem, but don't choose the the option that hurts you the most. -Artem Wing\n",
            "There are many solutions to a problem, but don't choose the the option that hurts you the most. -Artem Wing\n",
            "There are many solutions to a problem, but don't choose the the option that hurts you the most. -Artem Wing\n",
            "There are many solutions to a problem, but don't choose the the option that hurts you the most. -Artem Wing\n",
            "There are many solutions to a problem, but don't choose the the option that hurts you the most. -Artem Wing\n",
            "There are many solutions to a problem, but don't choose the the option that hurts you the most. -Artem Wing\n",
            "There are many solutions to a problem, but don't choose the the option that hurts you the most. -Artem Wing\n",
            "There are many solutions to a problem, but don't choose the the option that hurts you the most. -Artem Wing\n",
            "There are many solutions to a problem, but don't choose the the option that hurts you the most. -Artem Wing\n",
            "There are many solutions to a problem, but don't choose the the option that hurts you the most. -Artem Wing\n",
            "There are many solutions to a problem, but don't choose the the option that hurts you the most. -Artem Wing\n",
            "There are many solutions to a problem, but don't choose the the option that hurts you the most. -Artem Wing\n",
            "There are many solutions to a problem, but don't choose the the option that hurts you the most. -Artem Wing\n",
            "There are many solutions to a problem, but don't choose the the option that hurts you the most. -Artem Wing\n",
            "There are many solutions to a problem, but don't choose the the option that hurts you the most. -Artem Wing\n",
            "There are many solutions to a problem, but don't choose the the option that hurts you the most. -Artem Wing\n",
            "There are many solutions to a problem, but don't choose the the option that hurts you the most. -Artem Wing\n",
            "There are many solutions to a problem, but don't choose the the option that hurts you the most. -Artem Wing\n",
            "There are many solutions to a problem, but don't choose the the option that hurts you the most. -Artem Wing\n",
            "There are many solutions to a problem, but don't choose the the option that hurts you the most. -Artem Wing\n",
            "There are many solutions to a problem, but don't choose the the option that hurts you the most. -Artem Wing\n",
            "There are many solutions to a problem, but don't choose the the option that hurts you the most. -Artem Wing\n",
            "There are many solutions to a problem, but don't choose the the option that hurts you the most. -Artem Wing\n",
            "There are many solutions to a problem, but don't choose the the option that hurts you the most. -Artem Wing\n",
            "There are many solutions to a problem, but don't choose the the option that hurts you the most. -Artem Wing\n",
            "There are many solutions to a problem, but don't choose the the option that hurts you the most. -Artem Wing\n",
            "There are many solutions to a problem, but don't choose the the option that hurts you the most. -Artem Wing\n",
            "There are many solutions to a problem, but don't choose the the option that hurts you the most. -Artem Wing\n",
            "There are many solutions to a problem, but don't choose the the option that hurts you the most. -Artem Wing\n",
            "There are many solutions to a problem, but don't choose the the option that hurts you the most. -Artem Wing\n",
            "There are many solutions to a problem, but don't choose the the option that hurts you the most. -Artem Wing\n",
            "There are many solutions to a problem, but don't choose the the option that hurts you the most. -Artem Wing\n",
            "There are many solutions to a problem, but don't choose the the option that hurts you the most. -Artem Wing\n",
            "There are many solutions to a problem, but don't choose the the option that hurts you the most. -Artem Wing\n",
            "There are many solutions to a problem, but don't choose the the option that hurts you the most. -Artem Wing\n",
            "There are many solutions to a problem, but don't choose the the option that hurts you the most. -Artem Wing\n",
            "There are many solutions to a problem, but don't choose the the option that hurts you the most. -Artem Wing\n",
            "There are many solutions to a problem, but don't choose the the option that hurts you the most. -Artem Wing\n",
            "There are many solutions to a problem, but don't choose the the option that hurts you the most. -Artem Wing\n",
            "There are many solutions to a problem, but don't choose the the option that hurts you the most. -Artem Wing\n",
            "There are many solutions to a problem, but don't choose the the option that hurts you the most. -Artem Wing\n",
            "There are many solutions to a problem, but don't choose the the option that hurts you the most. -Artem Wing\n"
          ]
        }
      ]
    },
    {
      "cell_type": "markdown",
      "metadata": {
        "id": "Nqe8qkqafKwJ"
      },
      "source": [
        "### Exercise 3:\n",
        "\n",
        "Use python string operations and methods to use the following variables to print this:\n",
        "\n",
        "    \"hello world\""
      ]
    },
    {
      "cell_type": "code",
      "metadata": {
        "id": "l09XRLW4ouuv",
        "outputId": "253a250f-b110-4983-929b-c42bd97d8883",
        "colab": {
          "base_uri": "https://localhost:8080/"
        }
      },
      "source": [
        "message_1 = \"hELlo\" \n",
        "message_2 = \"wor\" \n",
        "message_3 = \"wbdaloqteldndyrcggzf\"\n",
        "\n",
        "message_1 = message_1.lower() ;\n",
        "message_3 = message_3[4] + message_3[2];\n",
        "print(message_1 + \" \" + message_2 + message_3);"
      ],
      "execution_count": 12,
      "outputs": [
        {
          "output_type": "stream",
          "name": "stdout",
          "text": [
            "hello world\n"
          ]
        }
      ]
    },
    {
      "cell_type": "markdown",
      "metadata": {
        "id": "W9hN2YUtfKwJ"
      },
      "source": [
        "### Exercise 4\n",
        "\n",
        "Fix the following code so it prints properly"
      ]
    },
    {
      "cell_type": "code",
      "metadata": {
        "id": "UqPD0rzyfKwJ",
        "outputId": "4ee0b4c0-b0c0-4e63-9fdf-fb333d8d56a4",
        "colab": {
          "base_uri": "https://localhost:8080/"
        }
      },
      "source": [
        "# Dollar amounts should only have two digits after the decimal\n",
        "print(\"The price is $%.2f.\" % (3.44444))"
      ],
      "execution_count": 14,
      "outputs": [
        {
          "output_type": "stream",
          "name": "stdout",
          "text": [
            "The price is $3.44.\n"
          ]
        }
      ]
    },
    {
      "cell_type": "code",
      "metadata": {
        "id": "t-koqQdZfKwJ",
        "outputId": "540c2188-869b-4f62-c71c-3b3f22a3ce2d",
        "colab": {
          "base_uri": "https://localhost:8080/"
        }
      },
      "source": [
        "# Complete the code so it prints your name and what you're learning\n",
        "name = input(\"enter your name: \")\n",
        "language = input(\"enter the language you are learning: \")\n",
        "print(\"{name} is learning {language}\".format(name = name, language = language) )"
      ],
      "execution_count": 18,
      "outputs": [
        {
          "output_type": "stream",
          "name": "stdout",
          "text": [
            "enter your name: Ann\n",
            "enter the language you are learning: Python\n",
            "Ann is learning Python\n"
          ]
        }
      ]
    },
    {
      "cell_type": "markdown",
      "metadata": {
        "id": "k66g6CRSfKwK"
      },
      "source": [
        "### Exercise 5\n",
        "\n",
        "Create your own mad-lib with at least 5 inputs."
      ]
    },
    {
      "cell_type": "code",
      "metadata": {
        "id": "fN-y8T56p66y",
        "outputId": "2064ae67-eda3-48ab-9b8d-1419aa2be3c8",
        "colab": {
          "base_uri": "https://localhost:8080/"
        }
      },
      "source": [
        "#I've never had a [noun] like you. You make me feel so [adjective]. I want to [verb] you with all of the [noun plural] in the world. Please [verb] me.\n",
        "\n",
        "noun1 = input(\"Enter noun: \");\n",
        "adj = input(\"Enter adjective: \");\n",
        "verb1 = input(\"Enter verb: \");\n",
        "nounplu = input(\"Enter plural noun: \");\n",
        "verb2 = input(\"Enter verb: \");\n",
        "\n",
        "print(\"I've never had a \" + noun1.lower() + \" like you. You make me feel so \" + adj.lower() + \". I want to \" + verb1.lower() + \" you with all of the \" + nounplu.lower() + \" sin the world. Please \" + verb2.lower() + \" me.\");\n"
      ],
      "execution_count": 21,
      "outputs": [
        {
          "output_type": "stream",
          "name": "stdout",
          "text": [
            "Enter noun: cat\n",
            "Enter adjective: ad\n",
            "Enter verb: run\n",
            "Enter plural noun: supriss\n",
            "Enter verb: slip\n",
            "I've never had a cat like you. You make me feel so ad. I want to run you with all of the supriss in the world. Please slip me.\n"
          ]
        }
      ]
    }
  ]
}